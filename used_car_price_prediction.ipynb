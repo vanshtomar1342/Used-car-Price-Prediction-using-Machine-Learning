{
 "cells": [
  {
   "cell_type": "code",
   "execution_count": 126,
   "id": "7c7cdb8e",
   "metadata": {},
   "outputs": [],
   "source": [
    "import pandas as pd\n",
    "import numpy as np\n",
    "import matplotlib.pyplot as plt\n",
    "import seaborn as sns\n",
    "import warnings\n",
    "warnings.filterwarnings(\"ignore\")"
   ]
  },
  {
   "cell_type": "code",
   "execution_count": 4,
   "id": "4ce2e6e1",
   "metadata": {},
   "outputs": [],
   "source": [
    "data=pd.read_csv('vehicles.csv')\n",
    "df=data.copy()"
   ]
  },
  {
   "cell_type": "code",
   "execution_count": 30,
   "id": "ca0d93b4",
   "metadata": {},
   "outputs": [
    {
     "data": {
      "text/html": [
       "<div>\n",
       "<style scoped>\n",
       "    .dataframe tbody tr th:only-of-type {\n",
       "        vertical-align: middle;\n",
       "    }\n",
       "\n",
       "    .dataframe tbody tr th {\n",
       "        vertical-align: top;\n",
       "    }\n",
       "\n",
       "    .dataframe thead th {\n",
       "        text-align: right;\n",
       "    }\n",
       "</style>\n",
       "<table border=\"1\" class=\"dataframe\">\n",
       "  <thead>\n",
       "    <tr style=\"text-align: right;\">\n",
       "      <th></th>\n",
       "      <th>id</th>\n",
       "      <th>url</th>\n",
       "      <th>price</th>\n",
       "      <th>manufacturer</th>\n",
       "      <th>model</th>\n",
       "      <th>condition</th>\n",
       "      <th>cylinders</th>\n",
       "      <th>fuel</th>\n",
       "      <th>mileage</th>\n",
       "      <th>title_status</th>\n",
       "      <th>transmission</th>\n",
       "      <th>drive</th>\n",
       "      <th>size</th>\n",
       "      <th>type</th>\n",
       "      <th>paint_color</th>\n",
       "      <th>description</th>\n",
       "      <th>county</th>\n",
       "      <th>state</th>\n",
       "      <th>posting_date</th>\n",
       "      <th>Age</th>\n",
       "    </tr>\n",
       "  </thead>\n",
       "  <tbody>\n",
       "    <tr>\n",
       "      <th>29</th>\n",
       "      <td>7316814989</td>\n",
       "      <td>https://auburn.craigslist.org/ctd/d/auburn-uni...</td>\n",
       "      <td>39590</td>\n",
       "      <td>chevrolet</td>\n",
       "      <td>silverado 1500 crew</td>\n",
       "      <td>good</td>\n",
       "      <td>8 cylinders</td>\n",
       "      <td>gas</td>\n",
       "      <td>19160.0</td>\n",
       "      <td>clean</td>\n",
       "      <td>other</td>\n",
       "      <td>NaN</td>\n",
       "      <td>NaN</td>\n",
       "      <td>pickup</td>\n",
       "      <td>red</td>\n",
       "      <td>Carvana is the safer way to buy a car During t...</td>\n",
       "      <td>NaN</td>\n",
       "      <td>al</td>\n",
       "      <td>2021-05-04T12:31:25-0500</td>\n",
       "      <td>3.0</td>\n",
       "    </tr>\n",
       "    <tr>\n",
       "      <th>49</th>\n",
       "      <td>7314811916</td>\n",
       "      <td>https://auburn.craigslist.org/ctd/d/auburn-uni...</td>\n",
       "      <td>32990</td>\n",
       "      <td>jeep</td>\n",
       "      <td>wrangler sport suv 2d</td>\n",
       "      <td>good</td>\n",
       "      <td>NaN</td>\n",
       "      <td>gas</td>\n",
       "      <td>20581.0</td>\n",
       "      <td>clean</td>\n",
       "      <td>other</td>\n",
       "      <td>4wd</td>\n",
       "      <td>NaN</td>\n",
       "      <td>SUV</td>\n",
       "      <td>silver</td>\n",
       "      <td>Carvana is the safer way to buy a car During t...</td>\n",
       "      <td>NaN</td>\n",
       "      <td>al</td>\n",
       "      <td>2021-04-30T10:11:01-0500</td>\n",
       "      <td>3.0</td>\n",
       "    </tr>\n",
       "    <tr>\n",
       "      <th>50</th>\n",
       "      <td>7314811909</td>\n",
       "      <td>https://auburn.craigslist.org/ctd/d/auburn-uni...</td>\n",
       "      <td>38990</td>\n",
       "      <td>ford</td>\n",
       "      <td>f150 supercrew cab xlt</td>\n",
       "      <td>good</td>\n",
       "      <td>6 cylinders</td>\n",
       "      <td>gas</td>\n",
       "      <td>12231.0</td>\n",
       "      <td>clean</td>\n",
       "      <td>other</td>\n",
       "      <td>NaN</td>\n",
       "      <td>NaN</td>\n",
       "      <td>pickup</td>\n",
       "      <td>NaN</td>\n",
       "      <td>Carvana is the safer way to buy a car During t...</td>\n",
       "      <td>NaN</td>\n",
       "      <td>al</td>\n",
       "      <td>2021-04-30T10:11:00-0500</td>\n",
       "      <td>3.0</td>\n",
       "    </tr>\n",
       "    <tr>\n",
       "      <th>52</th>\n",
       "      <td>7314584315</td>\n",
       "      <td>https://auburn.craigslist.org/ctd/d/auburn-uni...</td>\n",
       "      <td>31590</td>\n",
       "      <td>mazda</td>\n",
       "      <td>mx-5 miata club</td>\n",
       "      <td>good</td>\n",
       "      <td>NaN</td>\n",
       "      <td>gas</td>\n",
       "      <td>2195.0</td>\n",
       "      <td>clean</td>\n",
       "      <td>other</td>\n",
       "      <td>rwd</td>\n",
       "      <td>NaN</td>\n",
       "      <td>other</td>\n",
       "      <td>NaN</td>\n",
       "      <td>Carvana is the safer way to buy a car During t...</td>\n",
       "      <td>NaN</td>\n",
       "      <td>al</td>\n",
       "      <td>2021-04-29T18:11:10-0500</td>\n",
       "      <td>3.0</td>\n",
       "    </tr>\n",
       "    <tr>\n",
       "      <th>53</th>\n",
       "      <td>7314584322</td>\n",
       "      <td>https://auburn.craigslist.org/ctd/d/auburn-uni...</td>\n",
       "      <td>27990</td>\n",
       "      <td>ford</td>\n",
       "      <td>ranger supercab xl pickup</td>\n",
       "      <td>good</td>\n",
       "      <td>NaN</td>\n",
       "      <td>gas</td>\n",
       "      <td>10688.0</td>\n",
       "      <td>clean</td>\n",
       "      <td>other</td>\n",
       "      <td>NaN</td>\n",
       "      <td>NaN</td>\n",
       "      <td>pickup</td>\n",
       "      <td>white</td>\n",
       "      <td>Carvana is the safer way to buy a car During t...</td>\n",
       "      <td>NaN</td>\n",
       "      <td>al</td>\n",
       "      <td>2021-04-29T18:11:11-0500</td>\n",
       "      <td>3.0</td>\n",
       "    </tr>\n",
       "  </tbody>\n",
       "</table>\n",
       "</div>"
      ],
      "text/plain": [
       "            id                                                url  price  \\\n",
       "29  7316814989  https://auburn.craigslist.org/ctd/d/auburn-uni...  39590   \n",
       "49  7314811916  https://auburn.craigslist.org/ctd/d/auburn-uni...  32990   \n",
       "50  7314811909  https://auburn.craigslist.org/ctd/d/auburn-uni...  38990   \n",
       "52  7314584315  https://auburn.craigslist.org/ctd/d/auburn-uni...  31590   \n",
       "53  7314584322  https://auburn.craigslist.org/ctd/d/auburn-uni...  27990   \n",
       "\n",
       "   manufacturer                      model condition    cylinders fuel  \\\n",
       "29    chevrolet        silverado 1500 crew      good  8 cylinders  gas   \n",
       "49         jeep      wrangler sport suv 2d      good          NaN  gas   \n",
       "50         ford     f150 supercrew cab xlt      good  6 cylinders  gas   \n",
       "52        mazda            mx-5 miata club      good          NaN  gas   \n",
       "53         ford  ranger supercab xl pickup      good          NaN  gas   \n",
       "\n",
       "    mileage title_status transmission drive size    type paint_color  \\\n",
       "29  19160.0        clean        other   NaN  NaN  pickup         red   \n",
       "49  20581.0        clean        other   4wd  NaN     SUV      silver   \n",
       "50  12231.0        clean        other   NaN  NaN  pickup         NaN   \n",
       "52   2195.0        clean        other   rwd  NaN   other         NaN   \n",
       "53  10688.0        clean        other   NaN  NaN  pickup       white   \n",
       "\n",
       "                                          description  county state  \\\n",
       "29  Carvana is the safer way to buy a car During t...     NaN    al   \n",
       "49  Carvana is the safer way to buy a car During t...     NaN    al   \n",
       "50  Carvana is the safer way to buy a car During t...     NaN    al   \n",
       "52  Carvana is the safer way to buy a car During t...     NaN    al   \n",
       "53  Carvana is the safer way to buy a car During t...     NaN    al   \n",
       "\n",
       "                posting_date  Age  \n",
       "29  2021-05-04T12:31:25-0500  3.0  \n",
       "49  2021-04-30T10:11:01-0500  3.0  \n",
       "50  2021-04-30T10:11:00-0500  3.0  \n",
       "52  2021-04-29T18:11:10-0500  3.0  \n",
       "53  2021-04-29T18:11:11-0500  3.0  "
      ]
     },
     "execution_count": 30,
     "metadata": {},
     "output_type": "execute_result"
    }
   ],
   "source": [
    "df.head()"
   ]
  },
  {
   "cell_type": "code",
   "execution_count": 7,
   "id": "fa3f9150",
   "metadata": {},
   "outputs": [
    {
     "data": {
      "text/plain": [
       "(426880, 26)"
      ]
     },
     "execution_count": 7,
     "metadata": {},
     "output_type": "execute_result"
    }
   ],
   "source": [
    "df.shape"
   ]
  },
  {
   "cell_type": "code",
   "execution_count": 8,
   "id": "5861da8e",
   "metadata": {},
   "outputs": [
    {
     "data": {
      "text/plain": [
       "Index(['id', 'url', 'region', 'region_url', 'price', 'year', 'manufacturer',\n",
       "       'model', 'condition', 'cylinders', 'fuel', 'odometer', 'title_status',\n",
       "       'transmission', 'VIN', 'drive', 'size', 'type', 'paint_color',\n",
       "       'image_url', 'description', 'county', 'state', 'lat', 'long',\n",
       "       'posting_date'],\n",
       "      dtype='object')"
      ]
     },
     "execution_count": 8,
     "metadata": {},
     "output_type": "execute_result"
    }
   ],
   "source": [
    "df.columns"
   ]
  },
  {
   "cell_type": "code",
   "execution_count": 32,
   "id": "9a85cd0a",
   "metadata": {},
   "outputs": [
    {
     "data": {
      "text/plain": [
       "0"
      ]
     },
     "execution_count": 32,
     "metadata": {},
     "output_type": "execute_result"
    }
   ],
   "source": [
    "df.duplicated().sum()"
   ]
  },
  {
   "cell_type": "code",
   "execution_count": 33,
   "id": "30f253ca",
   "metadata": {},
   "outputs": [
    {
     "data": {
      "text/plain": [
       "id                  0\n",
       "url                 0\n",
       "price               0\n",
       "manufacturer     3463\n",
       "model             819\n",
       "condition       11706\n",
       "cylinders       16195\n",
       "fuel              313\n",
       "mileage            83\n",
       "title_status      832\n",
       "transmission       80\n",
       "drive           11916\n",
       "size            27218\n",
       "type             7694\n",
       "paint_color     10351\n",
       "description         1\n",
       "county          34864\n",
       "state               0\n",
       "posting_date        0\n",
       "Age              1115\n",
       "dtype: int64"
      ]
     },
     "execution_count": 33,
     "metadata": {},
     "output_type": "execute_result"
    }
   ],
   "source": [
    "df.isnull().sum()"
   ]
  },
  {
   "cell_type": "code",
   "execution_count": 34,
   "id": "a49ba25a",
   "metadata": {},
   "outputs": [
    {
     "data": {
      "text/html": [
       "<div>\n",
       "<style scoped>\n",
       "    .dataframe tbody tr th:only-of-type {\n",
       "        vertical-align: middle;\n",
       "    }\n",
       "\n",
       "    .dataframe tbody tr th {\n",
       "        vertical-align: top;\n",
       "    }\n",
       "\n",
       "    .dataframe thead th {\n",
       "        text-align: right;\n",
       "    }\n",
       "</style>\n",
       "<table border=\"1\" class=\"dataframe\">\n",
       "  <thead>\n",
       "    <tr style=\"text-align: right;\">\n",
       "      <th></th>\n",
       "      <th>id</th>\n",
       "      <th>price</th>\n",
       "      <th>mileage</th>\n",
       "      <th>county</th>\n",
       "      <th>Age</th>\n",
       "    </tr>\n",
       "  </thead>\n",
       "  <tbody>\n",
       "    <tr>\n",
       "      <th>count</th>\n",
       "      <td>3.486400e+04</td>\n",
       "      <td>34864.000000</td>\n",
       "      <td>3.478100e+04</td>\n",
       "      <td>0.0</td>\n",
       "      <td>33749.000000</td>\n",
       "    </tr>\n",
       "    <tr>\n",
       "      <th>mean</th>\n",
       "      <td>7.310854e+09</td>\n",
       "      <td>27458.864846</td>\n",
       "      <td>6.226484e+04</td>\n",
       "      <td>NaN</td>\n",
       "      <td>20.402827</td>\n",
       "    </tr>\n",
       "    <tr>\n",
       "      <th>std</th>\n",
       "      <td>4.774269e+06</td>\n",
       "      <td>21312.997280</td>\n",
       "      <td>4.673133e+05</td>\n",
       "      <td>NaN</td>\n",
       "      <td>25.041668</td>\n",
       "    </tr>\n",
       "    <tr>\n",
       "      <th>min</th>\n",
       "      <td>7.301584e+09</td>\n",
       "      <td>0.000000</td>\n",
       "      <td>0.000000e+00</td>\n",
       "      <td>NaN</td>\n",
       "      <td>1.000000</td>\n",
       "    </tr>\n",
       "    <tr>\n",
       "      <th>25%</th>\n",
       "      <td>7.306788e+09</td>\n",
       "      <td>9300.000000</td>\n",
       "      <td>4.148000e+03</td>\n",
       "      <td>NaN</td>\n",
       "      <td>3.000000</td>\n",
       "    </tr>\n",
       "    <tr>\n",
       "      <th>50%</th>\n",
       "      <td>7.311835e+09</td>\n",
       "      <td>26630.000000</td>\n",
       "      <td>1.367300e+04</td>\n",
       "      <td>NaN</td>\n",
       "      <td>3.000000</td>\n",
       "    </tr>\n",
       "    <tr>\n",
       "      <th>75%</th>\n",
       "      <td>7.315164e+09</td>\n",
       "      <td>39500.000000</td>\n",
       "      <td>4.200000e+04</td>\n",
       "      <td>NaN</td>\n",
       "      <td>41.000000</td>\n",
       "    </tr>\n",
       "    <tr>\n",
       "      <th>max</th>\n",
       "      <td>7.317097e+09</td>\n",
       "      <td>225000.000000</td>\n",
       "      <td>1.000000e+07</td>\n",
       "      <td>NaN</td>\n",
       "      <td>123.000000</td>\n",
       "    </tr>\n",
       "  </tbody>\n",
       "</table>\n",
       "</div>"
      ],
      "text/plain": [
       "                 id          price       mileage  county           Age\n",
       "count  3.486400e+04   34864.000000  3.478100e+04     0.0  33749.000000\n",
       "mean   7.310854e+09   27458.864846  6.226484e+04     NaN     20.402827\n",
       "std    4.774269e+06   21312.997280  4.673133e+05     NaN     25.041668\n",
       "min    7.301584e+09       0.000000  0.000000e+00     NaN      1.000000\n",
       "25%    7.306788e+09    9300.000000  4.148000e+03     NaN      3.000000\n",
       "50%    7.311835e+09   26630.000000  1.367300e+04     NaN      3.000000\n",
       "75%    7.315164e+09   39500.000000  4.200000e+04     NaN     41.000000\n",
       "max    7.317097e+09  225000.000000  1.000000e+07     NaN    123.000000"
      ]
     },
     "execution_count": 34,
     "metadata": {},
     "output_type": "execute_result"
    }
   ],
   "source": [
    "df.describe()"
   ]
  },
  {
   "cell_type": "markdown",
   "id": "5d99e422",
   "metadata": {},
   "source": [
    "# Data Cleaning"
   ]
  },
  {
   "cell_type": "code",
   "execution_count": 10,
   "id": "c93d3349",
   "metadata": {},
   "outputs": [],
   "source": [
    "#re-naming the columns\n",
    "df.rename({'odometer': 'mileage'}, axis= 1,inplace= True)"
   ]
  },
  {
   "cell_type": "code",
   "execution_count": 15,
   "id": "3af7d2d4",
   "metadata": {},
   "outputs": [
    {
     "data": {
      "text/plain": [
       "(426880, 20)"
      ]
     },
     "execution_count": 15,
     "metadata": {},
     "output_type": "execute_result"
    }
   ],
   "source": [
    "# Lets drop the columns that are not useful for the car price prediction.\n",
    "drop_columns = ['region', 'region_url','lat','long','image_url', 'VIN']\n",
    "df = df.drop(drop_columns, axis =1)\n",
    "df.shape"
   ]
  },
  {
   "cell_type": "code",
   "execution_count": 20,
   "id": "b335ef1a",
   "metadata": {},
   "outputs": [
    {
     "data": {
      "text/plain": [
       "(426785, 20)"
      ]
     },
     "execution_count": 20,
     "metadata": {},
     "output_type": "execute_result"
    }
   ],
   "source": [
    "#lets drop the columns where price of the car is more than 2.5 million dollars because high end used cars like ferrari, porsche costs less than that\n",
    "df.drop(df[df.price > 250000].index,inplace=True)\n",
    "df.shape"
   ]
  },
  {
   "cell_type": "code",
   "execution_count": 23,
   "id": "2495a95c",
   "metadata": {},
   "outputs": [
    {
     "data": {
      "text/plain": [
       "(35981, 20)"
      ]
     },
     "execution_count": 23,
     "metadata": {},
     "output_type": "execute_result"
    }
   ],
   "source": [
    "#Lets drop the columns where year is less than 1990 and greater than 2019\n",
    "ind = df[(df['year'] > 1990) & (df['year'] < 2020)].index\n",
    "df.drop(ind,inplace=True)\n",
    "df.shape"
   ]
  },
  {
   "cell_type": "code",
   "execution_count": 24,
   "id": "b096a625",
   "metadata": {},
   "outputs": [],
   "source": [
    "#finding the age of car\n",
    "from datetime import datetime\n",
    "\n",
    "current_year = datetime.now().year\n",
    "df['Age'] = current_year - df['year']\n",
    "del df['year']"
   ]
  },
  {
   "cell_type": "code",
   "execution_count": 42,
   "id": "1f774e69",
   "metadata": {},
   "outputs": [
    {
     "data": {
      "text/html": [
       "<div>\n",
       "<style scoped>\n",
       "    .dataframe tbody tr th:only-of-type {\n",
       "        vertical-align: middle;\n",
       "    }\n",
       "\n",
       "    .dataframe tbody tr th {\n",
       "        vertical-align: top;\n",
       "    }\n",
       "\n",
       "    .dataframe thead th {\n",
       "        text-align: right;\n",
       "    }\n",
       "</style>\n",
       "<table border=\"1\" class=\"dataframe\">\n",
       "  <thead>\n",
       "    <tr style=\"text-align: right;\">\n",
       "      <th></th>\n",
       "      <th>id</th>\n",
       "      <th>url</th>\n",
       "      <th>price</th>\n",
       "      <th>manufacturer</th>\n",
       "      <th>model</th>\n",
       "      <th>condition</th>\n",
       "      <th>cylinders</th>\n",
       "      <th>fuel</th>\n",
       "      <th>mileage</th>\n",
       "      <th>title_status</th>\n",
       "      <th>transmission</th>\n",
       "      <th>drive</th>\n",
       "      <th>size</th>\n",
       "      <th>type</th>\n",
       "      <th>paint_color</th>\n",
       "      <th>county</th>\n",
       "      <th>state</th>\n",
       "      <th>posting_date</th>\n",
       "      <th>Age</th>\n",
       "      <th>word_len</th>\n",
       "    </tr>\n",
       "  </thead>\n",
       "  <tbody>\n",
       "    <tr>\n",
       "      <th>337120</th>\n",
       "      <td>7310895168</td>\n",
       "      <td>https://pittsburgh.craigslist.org/cto/d/vienna...</td>\n",
       "      <td>13500</td>\n",
       "      <td>ford</td>\n",
       "      <td>NaN</td>\n",
       "      <td>like new</td>\n",
       "      <td>4 cylinders</td>\n",
       "      <td>gas</td>\n",
       "      <td>1200000.0</td>\n",
       "      <td>clean</td>\n",
       "      <td>manual</td>\n",
       "      <td>NaN</td>\n",
       "      <td>NaN</td>\n",
       "      <td>other</td>\n",
       "      <td>yellow</td>\n",
       "      <td>NaN</td>\n",
       "      <td>pa</td>\n",
       "      <td>2021-04-22T12:35:25-0400</td>\n",
       "      <td>94.0</td>\n",
       "      <td>370</td>\n",
       "    </tr>\n",
       "    <tr>\n",
       "      <th>5476</th>\n",
       "      <td>7314901135</td>\n",
       "      <td>https://anchorage.craigslist.org/ctd/d/anchora...</td>\n",
       "      <td>21384</td>\n",
       "      <td>chevrolet</td>\n",
       "      <td>trax</td>\n",
       "      <td>NaN</td>\n",
       "      <td>4 cylinders</td>\n",
       "      <td>gas</td>\n",
       "      <td>3671.0</td>\n",
       "      <td>clean</td>\n",
       "      <td>automatic</td>\n",
       "      <td>4wd</td>\n",
       "      <td>NaN</td>\n",
       "      <td>SUV</td>\n",
       "      <td>grey</td>\n",
       "      <td>NaN</td>\n",
       "      <td>ak</td>\n",
       "      <td>2021-04-30T09:36:48-0800</td>\n",
       "      <td>3.0</td>\n",
       "      <td>5653</td>\n",
       "    </tr>\n",
       "    <tr>\n",
       "      <th>290319</th>\n",
       "      <td>7311992957</td>\n",
       "      <td>https://cincinnati.craigslist.org/ctd/d/coving...</td>\n",
       "      <td>35990</td>\n",
       "      <td>dodge</td>\n",
       "      <td>challenger r/t coupe 2d</td>\n",
       "      <td>good</td>\n",
       "      <td>8 cylinders</td>\n",
       "      <td>gas</td>\n",
       "      <td>1548.0</td>\n",
       "      <td>clean</td>\n",
       "      <td>other</td>\n",
       "      <td>rwd</td>\n",
       "      <td>NaN</td>\n",
       "      <td>coupe</td>\n",
       "      <td>black</td>\n",
       "      <td>NaN</td>\n",
       "      <td>oh</td>\n",
       "      <td>2021-04-24T14:41:20-0400</td>\n",
       "      <td>3.0</td>\n",
       "      <td>6125</td>\n",
       "    </tr>\n",
       "    <tr>\n",
       "      <th>53760</th>\n",
       "      <td>7315560556</td>\n",
       "      <td>https://sacramento.craigslist.org/ctd/d/sacram...</td>\n",
       "      <td>46999</td>\n",
       "      <td>jeep</td>\n",
       "      <td>gladiator</td>\n",
       "      <td>NaN</td>\n",
       "      <td>NaN</td>\n",
       "      <td>gas</td>\n",
       "      <td>3465.0</td>\n",
       "      <td>clean</td>\n",
       "      <td>automatic</td>\n",
       "      <td>4wd</td>\n",
       "      <td>NaN</td>\n",
       "      <td>pickup</td>\n",
       "      <td>white</td>\n",
       "      <td>NaN</td>\n",
       "      <td>ca</td>\n",
       "      <td>2021-05-01T16:10:19-0700</td>\n",
       "      <td>3.0</td>\n",
       "      <td>1885</td>\n",
       "    </tr>\n",
       "    <tr>\n",
       "      <th>238963</th>\n",
       "      <td>7310506062</td>\n",
       "      <td>https://hickory.craigslist.org/cto/d/lenoir-19...</td>\n",
       "      <td>13500</td>\n",
       "      <td>chevrolet</td>\n",
       "      <td>malibu</td>\n",
       "      <td>excellent</td>\n",
       "      <td>8 cylinders</td>\n",
       "      <td>gas</td>\n",
       "      <td>105000.0</td>\n",
       "      <td>clean</td>\n",
       "      <td>automatic</td>\n",
       "      <td>rwd</td>\n",
       "      <td>NaN</td>\n",
       "      <td>NaN</td>\n",
       "      <td>NaN</td>\n",
       "      <td>NaN</td>\n",
       "      <td>nc</td>\n",
       "      <td>2021-04-21T15:45:27-0400</td>\n",
       "      <td>45.0</td>\n",
       "      <td>507</td>\n",
       "    </tr>\n",
       "  </tbody>\n",
       "</table>\n",
       "</div>"
      ],
      "text/plain": [
       "                id                                                url  price  \\\n",
       "337120  7310895168  https://pittsburgh.craigslist.org/cto/d/vienna...  13500   \n",
       "5476    7314901135  https://anchorage.craigslist.org/ctd/d/anchora...  21384   \n",
       "290319  7311992957  https://cincinnati.craigslist.org/ctd/d/coving...  35990   \n",
       "53760   7315560556  https://sacramento.craigslist.org/ctd/d/sacram...  46999   \n",
       "238963  7310506062  https://hickory.craigslist.org/cto/d/lenoir-19...  13500   \n",
       "\n",
       "       manufacturer                    model  condition    cylinders fuel  \\\n",
       "337120         ford                      NaN   like new  4 cylinders  gas   \n",
       "5476      chevrolet                     trax        NaN  4 cylinders  gas   \n",
       "290319        dodge  challenger r/t coupe 2d       good  8 cylinders  gas   \n",
       "53760          jeep                gladiator        NaN          NaN  gas   \n",
       "238963    chevrolet                   malibu  excellent  8 cylinders  gas   \n",
       "\n",
       "          mileage title_status transmission drive size    type paint_color  \\\n",
       "337120  1200000.0        clean       manual   NaN  NaN   other      yellow   \n",
       "5476       3671.0        clean    automatic   4wd  NaN     SUV        grey   \n",
       "290319     1548.0        clean        other   rwd  NaN   coupe       black   \n",
       "53760      3465.0        clean    automatic   4wd  NaN  pickup       white   \n",
       "238963   105000.0        clean    automatic   rwd  NaN     NaN         NaN   \n",
       "\n",
       "        county state              posting_date   Age  word_len  \n",
       "337120     NaN    pa  2021-04-22T12:35:25-0400  94.0       370  \n",
       "5476       NaN    ak  2021-04-30T09:36:48-0800   3.0      5653  \n",
       "290319     NaN    oh  2021-04-24T14:41:20-0400   3.0      6125  \n",
       "53760      NaN    ca  2021-05-01T16:10:19-0700   3.0      1885  \n",
       "238963     NaN    nc  2021-04-21T15:45:27-0400  45.0       507  "
      ]
     },
     "execution_count": 42,
     "metadata": {},
     "output_type": "execute_result"
    }
   ],
   "source": [
    "df.sample(5)"
   ]
  },
  {
   "cell_type": "code",
   "execution_count": 28,
   "id": "60c00691",
   "metadata": {},
   "outputs": [
    {
     "data": {
      "text/plain": [
       "(34864, 20)"
      ]
     },
     "execution_count": 28,
     "metadata": {},
     "output_type": "execute_result"
    }
   ],
   "source": [
    "# Lets drop the rows where has atleast 3 NaN values.\n",
    "df.dropna(thresh = 13, axis = 0, inplace = True)\n",
    "df.shape"
   ]
  },
  {
   "cell_type": "code",
   "execution_count": 29,
   "id": "ca243d4f",
   "metadata": {},
   "outputs": [
    {
     "data": {
      "text/plain": [
       "(34864, 20)"
      ]
     },
     "execution_count": 29,
     "metadata": {},
     "output_type": "execute_result"
    }
   ],
   "source": [
    "#dropping the duplicates in the data\n",
    "df.drop_duplicates(keep = 'first', inplace = True)\n",
    "df.shape"
   ]
  },
  {
   "cell_type": "code",
   "execution_count": 35,
   "id": "6061d241",
   "metadata": {},
   "outputs": [
    {
     "data": {
      "text/plain": [
       "array(['chevrolet', 'jeep', 'ford', 'mazda', 'honda', 'buick', 'lexus',\n",
       "       'volvo', 'infiniti', 'acura', nan, 'mitsubishi', 'gmc', 'jaguar',\n",
       "       'audi', 'toyota', 'mercedes-benz', 'nissan', 'dodge', 'pontiac',\n",
       "       'lincoln', 'alfa-romeo', 'hyundai', 'mercury', 'ram', 'cadillac',\n",
       "       'kia', 'bmw', 'rover', 'chrysler', 'porsche', 'subaru',\n",
       "       'volkswagen', 'fiat', 'datsun', 'mini', 'harley-davidson', 'tesla',\n",
       "       'land rover', 'ferrari', 'morgan'], dtype=object)"
      ]
     },
     "execution_count": 35,
     "metadata": {},
     "output_type": "execute_result"
    }
   ],
   "source": [
    "df.manufacturer.unique()"
   ]
  },
  {
   "cell_type": "code",
   "execution_count": 39,
   "id": "120a9bca",
   "metadata": {},
   "outputs": [],
   "source": [
    "df.dropna(subset = ['description'],inplace = True) # dropping the null values in 'desc' column\n",
    "df['word_len'] = df.description.apply(lambda x: len(str(x.lower().split())))\n",
    "del df['description']"
   ]
  },
  {
   "cell_type": "code",
   "execution_count": 44,
   "id": "59e14042",
   "metadata": {},
   "outputs": [],
   "source": [
    "# removing the 'cylinders' in the columns and converting into float.\n",
    "df.cylinders = df.cylinders.apply(lambda x: x if str(x).lower()[-1] == 'o' or str(x).lower()[-1] == 'n' else str(x).lower().replace('cylinders', ''))\n",
    "df.cylinders = pd.to_numeric(df.cylinders, errors = 'coerce')\n",
    "df.cylinders.fillna(df.cylinders.median(), inplace = True)"
   ]
  },
  {
   "cell_type": "code",
   "execution_count": 45,
   "id": "deeb5cbf",
   "metadata": {},
   "outputs": [
    {
     "data": {
      "text/plain": [
       "(34863, 20)"
      ]
     },
     "execution_count": 45,
     "metadata": {},
     "output_type": "execute_result"
    }
   ],
   "source": [
    "# Lets drop the rows where has atleast 3 NaN values.\n",
    "df.dropna(thresh = 13, axis = 0, inplace = True)\n",
    "df.shape"
   ]
  },
  {
   "cell_type": "code",
   "execution_count": 46,
   "id": "4273ae48",
   "metadata": {},
   "outputs": [],
   "source": [
    "# fixing the spelling errors\n",
    "df.manufacturer = df.manufacturer.replace('porche', 'porsche')"
   ]
  },
  {
   "cell_type": "code",
   "execution_count": 86,
   "id": "75f2f342",
   "metadata": {},
   "outputs": [],
   "source": [
    "# creating new dataframe to find the size of each car in order to fill the null values in the size feature of same car\n",
    "df = df.sort_values(by= ['size','manufacturer','type'])\n",
    "df.drop_duplicates(subset = ['model','type'], keep = 'first', inplace = True)\n"
   ]
  },
  {
   "cell_type": "code",
   "execution_count": 87,
   "id": "4730f4fd",
   "metadata": {},
   "outputs": [
    {
     "data": {
      "text/plain": [
       "id                 0\n",
       "url                0\n",
       "price              0\n",
       "manufacturer       0\n",
       "model              0\n",
       "condition          0\n",
       "cylinders          0\n",
       "fuel               0\n",
       "mileage            0\n",
       "title_status       0\n",
       "transmission       0\n",
       "drive              0\n",
       "size               0\n",
       "type               0\n",
       "paint_color        0\n",
       "county          2028\n",
       "state              0\n",
       "posting_date       0\n",
       "Age                0\n",
       "word_len           0\n",
       "age                0\n",
       "dtype: int64"
      ]
     },
     "execution_count": 87,
     "metadata": {},
     "output_type": "execute_result"
    }
   ],
   "source": [
    "df.isnull().sum() "
   ]
  },
  {
   "cell_type": "code",
   "execution_count": 82,
   "id": "6df95c07",
   "metadata": {},
   "outputs": [],
   "source": [
    "# # dictionary that contain size of each car\n",
    "# size = dict(zip(new['model'], new['size']))\n",
    "# for i in range(len(df)):\n",
    "#     if str(df['size'][i]).lower()[0] == 'n' and (df['model'][i] in size.keys()):\n",
    "#         df['size'][i] = size[df['model'][i]]"
   ]
  },
  {
   "cell_type": "code",
   "execution_count": 88,
   "id": "9d73d555",
   "metadata": {},
   "outputs": [],
   "source": [
    "# Adding the manufacturers name to list from the dataset and adding few more manufacturer after looking the make column in dataset\n",
    "manuf = []\n",
    "for i in df.manufacturer.value_counts().index:\n",
    "    manuf.append(i)\n",
    "manuf.append('Tesla')\n",
    "manuf.append('Rolls-Royce')\n",
    "manuf.append('genesis')"
   ]
  },
  {
   "cell_type": "code",
   "execution_count": 89,
   "id": "b011c795",
   "metadata": {},
   "outputs": [
    {
     "data": {
      "text/plain": [
       "(2028, 21)"
      ]
     },
     "execution_count": 89,
     "metadata": {},
     "output_type": "execute_result"
    }
   ],
   "source": [
    "#dropping the null values\n",
    "df.dropna(subset = ['transmission','type','manufacturer','model','fuel','mileage','title_status','paint_color','drive','size','condition'],inplace = True)\n",
    "df.index = range(len(df))\n",
    "df.shape"
   ]
  },
  {
   "cell_type": "code",
   "execution_count": 77,
   "id": "be65c0aa",
   "metadata": {},
   "outputs": [
    {
     "data": {
      "text/plain": [
       "excellent    1650\n",
       "good         1597\n",
       "like new      784\n",
       "fair          470\n",
       "new           191\n",
       "salvage        23\n",
       "Name: condition, dtype: int64"
      ]
     },
     "execution_count": 77,
     "metadata": {},
     "output_type": "execute_result"
    }
   ],
   "source": [
    "df.condition.value_counts()"
   ]
  },
  {
   "cell_type": "code",
   "execution_count": 79,
   "id": "842e8a81",
   "metadata": {},
   "outputs": [
    {
     "data": {
      "text/plain": [
       "clean         4436\n",
       "missing         93\n",
       "rebuilt         86\n",
       "lien            52\n",
       "salvage         36\n",
       "parts only      12\n",
       "Name: title_status, dtype: int64"
      ]
     },
     "execution_count": 79,
     "metadata": {},
     "output_type": "execute_result"
    }
   ],
   "source": [
    "df.title_status.value_counts()"
   ]
  },
  {
   "cell_type": "code",
   "execution_count": 90,
   "id": "1ff4b43c",
   "metadata": {},
   "outputs": [],
   "source": [
    "# Finding the models of car which has fewer data\n",
    "other_models = df.model.value_counts().index[df.model.value_counts().values < 5]"
   ]
  },
  {
   "cell_type": "code",
   "execution_count": 91,
   "id": "024490eb",
   "metadata": {},
   "outputs": [],
   "source": [
    "# changing the datatype from float to int\n",
    "df['age'] = df['Age'].astype(int)\n",
    "df['mileage'] = df['mileage'].astype(int)\n",
    "df['cylinders'] = df['cylinders'].astype(int)"
   ]
  },
  {
   "cell_type": "code",
   "execution_count": 94,
   "id": "683ba12c",
   "metadata": {},
   "outputs": [
    {
     "data": {
      "text/html": [
       "<div>\n",
       "<style scoped>\n",
       "    .dataframe tbody tr th:only-of-type {\n",
       "        vertical-align: middle;\n",
       "    }\n",
       "\n",
       "    .dataframe tbody tr th {\n",
       "        vertical-align: top;\n",
       "    }\n",
       "\n",
       "    .dataframe thead th {\n",
       "        text-align: right;\n",
       "    }\n",
       "</style>\n",
       "<table border=\"1\" class=\"dataframe\">\n",
       "  <thead>\n",
       "    <tr style=\"text-align: right;\">\n",
       "      <th></th>\n",
       "      <th>id</th>\n",
       "      <th>url</th>\n",
       "      <th>price</th>\n",
       "      <th>manufacturer</th>\n",
       "      <th>model</th>\n",
       "      <th>condition</th>\n",
       "      <th>cylinders</th>\n",
       "      <th>fuel</th>\n",
       "      <th>mileage</th>\n",
       "      <th>title_status</th>\n",
       "      <th>...</th>\n",
       "      <th>drive</th>\n",
       "      <th>size</th>\n",
       "      <th>type</th>\n",
       "      <th>paint_color</th>\n",
       "      <th>county</th>\n",
       "      <th>state</th>\n",
       "      <th>posting_date</th>\n",
       "      <th>Age</th>\n",
       "      <th>word_len</th>\n",
       "      <th>age</th>\n",
       "    </tr>\n",
       "  </thead>\n",
       "  <tbody>\n",
       "    <tr>\n",
       "      <th>1533</th>\n",
       "      <td>7302409970</td>\n",
       "      <td>https://pueblo.craigslist.org/cto/d/pueblo-972...</td>\n",
       "      <td>6000</td>\n",
       "      <td>toyota</td>\n",
       "      <td>landcruiser</td>\n",
       "      <td>good</td>\n",
       "      <td>8</td>\n",
       "      <td>gas</td>\n",
       "      <td>420690</td>\n",
       "      <td>clean</td>\n",
       "      <td>...</td>\n",
       "      <td>4wd</td>\n",
       "      <td>full-size</td>\n",
       "      <td>SUV</td>\n",
       "      <td>black</td>\n",
       "      <td>NaN</td>\n",
       "      <td>co</td>\n",
       "      <td>2021-04-05T19:15:36-0600</td>\n",
       "      <td>51.0</td>\n",
       "      <td>64</td>\n",
       "      <td>51</td>\n",
       "    </tr>\n",
       "    <tr>\n",
       "      <th>911</th>\n",
       "      <td>7305081289</td>\n",
       "      <td>https://batonrouge.craigslist.org/cto/d/glynn-...</td>\n",
       "      <td>27500</td>\n",
       "      <td>ford</td>\n",
       "      <td>model a coupe</td>\n",
       "      <td>good</td>\n",
       "      <td>4</td>\n",
       "      <td>gas</td>\n",
       "      <td>46723</td>\n",
       "      <td>missing</td>\n",
       "      <td>...</td>\n",
       "      <td>rwd</td>\n",
       "      <td>full-size</td>\n",
       "      <td>coupe</td>\n",
       "      <td>purple</td>\n",
       "      <td>NaN</td>\n",
       "      <td>la</td>\n",
       "      <td>2021-04-11T07:03:46-0500</td>\n",
       "      <td>93.0</td>\n",
       "      <td>5418</td>\n",
       "      <td>93</td>\n",
       "    </tr>\n",
       "    <tr>\n",
       "      <th>937</th>\n",
       "      <td>7313645667</td>\n",
       "      <td>https://orlando.craigslist.org/ctd/d/tangerine...</td>\n",
       "      <td>55500</td>\n",
       "      <td>ford</td>\n",
       "      <td>model a</td>\n",
       "      <td>new</td>\n",
       "      <td>8</td>\n",
       "      <td>gas</td>\n",
       "      <td>100</td>\n",
       "      <td>clean</td>\n",
       "      <td>...</td>\n",
       "      <td>rwd</td>\n",
       "      <td>full-size</td>\n",
       "      <td>other</td>\n",
       "      <td>green</td>\n",
       "      <td>NaN</td>\n",
       "      <td>fl</td>\n",
       "      <td>2021-04-27T21:03:20-0400</td>\n",
       "      <td>93.0</td>\n",
       "      <td>702</td>\n",
       "      <td>93</td>\n",
       "    </tr>\n",
       "    <tr>\n",
       "      <th>1588</th>\n",
       "      <td>7303250495</td>\n",
       "      <td>https://santafe.craigslist.org/cto/d/los-alamo...</td>\n",
       "      <td>1000</td>\n",
       "      <td>volvo</td>\n",
       "      <td>240 dl</td>\n",
       "      <td>fair</td>\n",
       "      <td>4</td>\n",
       "      <td>gas</td>\n",
       "      <td>258000</td>\n",
       "      <td>clean</td>\n",
       "      <td>...</td>\n",
       "      <td>rwd</td>\n",
       "      <td>full-size</td>\n",
       "      <td>sedan</td>\n",
       "      <td>silver</td>\n",
       "      <td>NaN</td>\n",
       "      <td>nm</td>\n",
       "      <td>2021-04-07T12:32:23-0600</td>\n",
       "      <td>34.0</td>\n",
       "      <td>38</td>\n",
       "      <td>34</td>\n",
       "    </tr>\n",
       "    <tr>\n",
       "      <th>1715</th>\n",
       "      <td>7314772530</td>\n",
       "      <td>https://charlotte.craigslist.org/cto/d/charlot...</td>\n",
       "      <td>16500</td>\n",
       "      <td>fiat</td>\n",
       "      <td>campagnola</td>\n",
       "      <td>good</td>\n",
       "      <td>4</td>\n",
       "      <td>gas</td>\n",
       "      <td>14000</td>\n",
       "      <td>clean</td>\n",
       "      <td>...</td>\n",
       "      <td>4wd</td>\n",
       "      <td>mid-size</td>\n",
       "      <td>SUV</td>\n",
       "      <td>white</td>\n",
       "      <td>NaN</td>\n",
       "      <td>nc</td>\n",
       "      <td>2021-04-30T09:58:28-0400</td>\n",
       "      <td>43.0</td>\n",
       "      <td>3453</td>\n",
       "      <td>43</td>\n",
       "    </tr>\n",
       "  </tbody>\n",
       "</table>\n",
       "<p>5 rows × 21 columns</p>\n",
       "</div>"
      ],
      "text/plain": [
       "              id                                                url  price  \\\n",
       "1533  7302409970  https://pueblo.craigslist.org/cto/d/pueblo-972...   6000   \n",
       "911   7305081289  https://batonrouge.craigslist.org/cto/d/glynn-...  27500   \n",
       "937   7313645667  https://orlando.craigslist.org/ctd/d/tangerine...  55500   \n",
       "1588  7303250495  https://santafe.craigslist.org/cto/d/los-alamo...   1000   \n",
       "1715  7314772530  https://charlotte.craigslist.org/cto/d/charlot...  16500   \n",
       "\n",
       "     manufacturer          model condition  cylinders fuel  mileage  \\\n",
       "1533       toyota    landcruiser      good          8  gas   420690   \n",
       "911          ford  model a coupe      good          4  gas    46723   \n",
       "937          ford        model a       new          8  gas      100   \n",
       "1588        volvo         240 dl      fair          4  gas   258000   \n",
       "1715         fiat     campagnola      good          4  gas    14000   \n",
       "\n",
       "     title_status  ... drive       size   type paint_color county  state  \\\n",
       "1533        clean  ...   4wd  full-size    SUV       black    NaN     co   \n",
       "911       missing  ...   rwd  full-size  coupe      purple    NaN     la   \n",
       "937         clean  ...   rwd  full-size  other       green    NaN     fl   \n",
       "1588        clean  ...   rwd  full-size  sedan      silver    NaN     nm   \n",
       "1715        clean  ...   4wd   mid-size    SUV       white    NaN     nc   \n",
       "\n",
       "                  posting_date   Age  word_len  age  \n",
       "1533  2021-04-05T19:15:36-0600  51.0        64   51  \n",
       "911   2021-04-11T07:03:46-0500  93.0      5418   93  \n",
       "937   2021-04-27T21:03:20-0400  93.0       702   93  \n",
       "1588  2021-04-07T12:32:23-0600  34.0        38   34  \n",
       "1715  2021-04-30T09:58:28-0400  43.0      3453   43  \n",
       "\n",
       "[5 rows x 21 columns]"
      ]
     },
     "execution_count": 94,
     "metadata": {},
     "output_type": "execute_result"
    }
   ],
   "source": [
    "df.sample(5)"
   ]
  },
  {
   "cell_type": "code",
   "execution_count": 95,
   "id": "b7ee4cbf",
   "metadata": {},
   "outputs": [
    {
     "data": {
      "text/html": [
       "<div>\n",
       "<style scoped>\n",
       "    .dataframe tbody tr th:only-of-type {\n",
       "        vertical-align: middle;\n",
       "    }\n",
       "\n",
       "    .dataframe tbody tr th {\n",
       "        vertical-align: top;\n",
       "    }\n",
       "\n",
       "    .dataframe thead th {\n",
       "        text-align: right;\n",
       "    }\n",
       "</style>\n",
       "<table border=\"1\" class=\"dataframe\">\n",
       "  <thead>\n",
       "    <tr style=\"text-align: right;\">\n",
       "      <th></th>\n",
       "      <th>id</th>\n",
       "      <th>url</th>\n",
       "      <th>price</th>\n",
       "      <th>manufacturer</th>\n",
       "      <th>model</th>\n",
       "      <th>condition</th>\n",
       "      <th>cylinders</th>\n",
       "      <th>fuel</th>\n",
       "      <th>mileage</th>\n",
       "      <th>title_status</th>\n",
       "      <th>...</th>\n",
       "      <th>drive</th>\n",
       "      <th>size</th>\n",
       "      <th>type</th>\n",
       "      <th>paint_color</th>\n",
       "      <th>county</th>\n",
       "      <th>state</th>\n",
       "      <th>posting_date</th>\n",
       "      <th>Age</th>\n",
       "      <th>word_len</th>\n",
       "      <th>age</th>\n",
       "    </tr>\n",
       "  </thead>\n",
       "  <tbody>\n",
       "    <tr>\n",
       "      <th>count</th>\n",
       "      <td>2.028000e+03</td>\n",
       "      <td>2028</td>\n",
       "      <td>2028.000000</td>\n",
       "      <td>2028</td>\n",
       "      <td>2028</td>\n",
       "      <td>2028</td>\n",
       "      <td>2028.000000</td>\n",
       "      <td>2028</td>\n",
       "      <td>2.028000e+03</td>\n",
       "      <td>2028</td>\n",
       "      <td>...</td>\n",
       "      <td>2028</td>\n",
       "      <td>2028</td>\n",
       "      <td>2028</td>\n",
       "      <td>2028</td>\n",
       "      <td>0.0</td>\n",
       "      <td>2028</td>\n",
       "      <td>2028</td>\n",
       "      <td>2028.000000</td>\n",
       "      <td>2028.000000</td>\n",
       "      <td>2028.000000</td>\n",
       "    </tr>\n",
       "    <tr>\n",
       "      <th>unique</th>\n",
       "      <td>NaN</td>\n",
       "      <td>2028</td>\n",
       "      <td>NaN</td>\n",
       "      <td>39</td>\n",
       "      <td>1601</td>\n",
       "      <td>6</td>\n",
       "      <td>NaN</td>\n",
       "      <td>5</td>\n",
       "      <td>NaN</td>\n",
       "      <td>6</td>\n",
       "      <td>...</td>\n",
       "      <td>3</td>\n",
       "      <td>4</td>\n",
       "      <td>13</td>\n",
       "      <td>12</td>\n",
       "      <td>NaN</td>\n",
       "      <td>51</td>\n",
       "      <td>2028</td>\n",
       "      <td>NaN</td>\n",
       "      <td>NaN</td>\n",
       "      <td>NaN</td>\n",
       "    </tr>\n",
       "    <tr>\n",
       "      <th>top</th>\n",
       "      <td>NaN</td>\n",
       "      <td>https://spacecoast.craigslist.org/ctd/d/orland...</td>\n",
       "      <td>NaN</td>\n",
       "      <td>chevrolet</td>\n",
       "      <td>beetle</td>\n",
       "      <td>good</td>\n",
       "      <td>NaN</td>\n",
       "      <td>gas</td>\n",
       "      <td>NaN</td>\n",
       "      <td>clean</td>\n",
       "      <td>...</td>\n",
       "      <td>rwd</td>\n",
       "      <td>full-size</td>\n",
       "      <td>coupe</td>\n",
       "      <td>white</td>\n",
       "      <td>NaN</td>\n",
       "      <td>ca</td>\n",
       "      <td>2021-05-03T12:19:29-0400</td>\n",
       "      <td>NaN</td>\n",
       "      <td>NaN</td>\n",
       "      <td>NaN</td>\n",
       "    </tr>\n",
       "    <tr>\n",
       "      <th>freq</th>\n",
       "      <td>NaN</td>\n",
       "      <td>1</td>\n",
       "      <td>NaN</td>\n",
       "      <td>436</td>\n",
       "      <td>6</td>\n",
       "      <td>713</td>\n",
       "      <td>NaN</td>\n",
       "      <td>1898</td>\n",
       "      <td>NaN</td>\n",
       "      <td>1871</td>\n",
       "      <td>...</td>\n",
       "      <td>1205</td>\n",
       "      <td>1236</td>\n",
       "      <td>353</td>\n",
       "      <td>403</td>\n",
       "      <td>NaN</td>\n",
       "      <td>306</td>\n",
       "      <td>1</td>\n",
       "      <td>NaN</td>\n",
       "      <td>NaN</td>\n",
       "      <td>NaN</td>\n",
       "    </tr>\n",
       "    <tr>\n",
       "      <th>mean</th>\n",
       "      <td>7.311923e+09</td>\n",
       "      <td>NaN</td>\n",
       "      <td>19415.966963</td>\n",
       "      <td>NaN</td>\n",
       "      <td>NaN</td>\n",
       "      <td>NaN</td>\n",
       "      <td>6.553748</td>\n",
       "      <td>NaN</td>\n",
       "      <td>1.421859e+05</td>\n",
       "      <td>NaN</td>\n",
       "      <td>...</td>\n",
       "      <td>NaN</td>\n",
       "      <td>NaN</td>\n",
       "      <td>NaN</td>\n",
       "      <td>NaN</td>\n",
       "      <td>NaN</td>\n",
       "      <td>NaN</td>\n",
       "      <td>NaN</td>\n",
       "      <td>38.317554</td>\n",
       "      <td>1334.669625</td>\n",
       "      <td>38.317554</td>\n",
       "    </tr>\n",
       "    <tr>\n",
       "      <th>std</th>\n",
       "      <td>4.240881e+06</td>\n",
       "      <td>NaN</td>\n",
       "      <td>20694.700263</td>\n",
       "      <td>NaN</td>\n",
       "      <td>NaN</td>\n",
       "      <td>NaN</td>\n",
       "      <td>1.700742</td>\n",
       "      <td>NaN</td>\n",
       "      <td>8.153882e+05</td>\n",
       "      <td>NaN</td>\n",
       "      <td>...</td>\n",
       "      <td>NaN</td>\n",
       "      <td>NaN</td>\n",
       "      <td>NaN</td>\n",
       "      <td>NaN</td>\n",
       "      <td>NaN</td>\n",
       "      <td>NaN</td>\n",
       "      <td>NaN</td>\n",
       "      <td>24.677570</td>\n",
       "      <td>1901.088812</td>\n",
       "      <td>24.677570</td>\n",
       "    </tr>\n",
       "    <tr>\n",
       "      <th>min</th>\n",
       "      <td>7.301602e+09</td>\n",
       "      <td>NaN</td>\n",
       "      <td>0.000000</td>\n",
       "      <td>NaN</td>\n",
       "      <td>NaN</td>\n",
       "      <td>NaN</td>\n",
       "      <td>3.000000</td>\n",
       "      <td>NaN</td>\n",
       "      <td>0.000000e+00</td>\n",
       "      <td>NaN</td>\n",
       "      <td>...</td>\n",
       "      <td>NaN</td>\n",
       "      <td>NaN</td>\n",
       "      <td>NaN</td>\n",
       "      <td>NaN</td>\n",
       "      <td>NaN</td>\n",
       "      <td>NaN</td>\n",
       "      <td>NaN</td>\n",
       "      <td>1.000000</td>\n",
       "      <td>19.000000</td>\n",
       "      <td>1.000000</td>\n",
       "    </tr>\n",
       "    <tr>\n",
       "      <th>25%</th>\n",
       "      <td>7.309037e+09</td>\n",
       "      <td>NaN</td>\n",
       "      <td>5356.250000</td>\n",
       "      <td>NaN</td>\n",
       "      <td>NaN</td>\n",
       "      <td>NaN</td>\n",
       "      <td>5.000000</td>\n",
       "      <td>NaN</td>\n",
       "      <td>1.000000e+04</td>\n",
       "      <td>NaN</td>\n",
       "      <td>...</td>\n",
       "      <td>NaN</td>\n",
       "      <td>NaN</td>\n",
       "      <td>NaN</td>\n",
       "      <td>NaN</td>\n",
       "      <td>NaN</td>\n",
       "      <td>NaN</td>\n",
       "      <td>NaN</td>\n",
       "      <td>3.000000</td>\n",
       "      <td>346.000000</td>\n",
       "      <td>3.000000</td>\n",
       "    </tr>\n",
       "    <tr>\n",
       "      <th>50%</th>\n",
       "      <td>7.313002e+09</td>\n",
       "      <td>NaN</td>\n",
       "      <td>12500.000000</td>\n",
       "      <td>NaN</td>\n",
       "      <td>NaN</td>\n",
       "      <td>NaN</td>\n",
       "      <td>8.000000</td>\n",
       "      <td>NaN</td>\n",
       "      <td>5.080650e+04</td>\n",
       "      <td>NaN</td>\n",
       "      <td>...</td>\n",
       "      <td>NaN</td>\n",
       "      <td>NaN</td>\n",
       "      <td>NaN</td>\n",
       "      <td>NaN</td>\n",
       "      <td>NaN</td>\n",
       "      <td>NaN</td>\n",
       "      <td>NaN</td>\n",
       "      <td>40.000000</td>\n",
       "      <td>704.000000</td>\n",
       "      <td>40.000000</td>\n",
       "    </tr>\n",
       "    <tr>\n",
       "      <th>75%</th>\n",
       "      <td>7.315591e+09</td>\n",
       "      <td>NaN</td>\n",
       "      <td>26900.000000</td>\n",
       "      <td>NaN</td>\n",
       "      <td>NaN</td>\n",
       "      <td>NaN</td>\n",
       "      <td>8.000000</td>\n",
       "      <td>NaN</td>\n",
       "      <td>1.000000e+05</td>\n",
       "      <td>NaN</td>\n",
       "      <td>...</td>\n",
       "      <td>NaN</td>\n",
       "      <td>NaN</td>\n",
       "      <td>NaN</td>\n",
       "      <td>NaN</td>\n",
       "      <td>NaN</td>\n",
       "      <td>NaN</td>\n",
       "      <td>NaN</td>\n",
       "      <td>54.000000</td>\n",
       "      <td>1480.500000</td>\n",
       "      <td>54.000000</td>\n",
       "    </tr>\n",
       "    <tr>\n",
       "      <th>max</th>\n",
       "      <td>7.317090e+09</td>\n",
       "      <td>NaN</td>\n",
       "      <td>155000.000000</td>\n",
       "      <td>NaN</td>\n",
       "      <td>NaN</td>\n",
       "      <td>NaN</td>\n",
       "      <td>12.000000</td>\n",
       "      <td>NaN</td>\n",
       "      <td>1.000000e+07</td>\n",
       "      <td>NaN</td>\n",
       "      <td>...</td>\n",
       "      <td>NaN</td>\n",
       "      <td>NaN</td>\n",
       "      <td>NaN</td>\n",
       "      <td>NaN</td>\n",
       "      <td>NaN</td>\n",
       "      <td>NaN</td>\n",
       "      <td>NaN</td>\n",
       "      <td>123.000000</td>\n",
       "      <td>31718.000000</td>\n",
       "      <td>123.000000</td>\n",
       "    </tr>\n",
       "  </tbody>\n",
       "</table>\n",
       "<p>11 rows × 21 columns</p>\n",
       "</div>"
      ],
      "text/plain": [
       "                  id                                                url  \\\n",
       "count   2.028000e+03                                               2028   \n",
       "unique           NaN                                               2028   \n",
       "top              NaN  https://spacecoast.craigslist.org/ctd/d/orland...   \n",
       "freq             NaN                                                  1   \n",
       "mean    7.311923e+09                                                NaN   \n",
       "std     4.240881e+06                                                NaN   \n",
       "min     7.301602e+09                                                NaN   \n",
       "25%     7.309037e+09                                                NaN   \n",
       "50%     7.313002e+09                                                NaN   \n",
       "75%     7.315591e+09                                                NaN   \n",
       "max     7.317090e+09                                                NaN   \n",
       "\n",
       "                price manufacturer   model condition    cylinders  fuel  \\\n",
       "count     2028.000000         2028    2028      2028  2028.000000  2028   \n",
       "unique            NaN           39    1601         6          NaN     5   \n",
       "top               NaN    chevrolet  beetle      good          NaN   gas   \n",
       "freq              NaN          436       6       713          NaN  1898   \n",
       "mean     19415.966963          NaN     NaN       NaN     6.553748   NaN   \n",
       "std      20694.700263          NaN     NaN       NaN     1.700742   NaN   \n",
       "min          0.000000          NaN     NaN       NaN     3.000000   NaN   \n",
       "25%       5356.250000          NaN     NaN       NaN     5.000000   NaN   \n",
       "50%      12500.000000          NaN     NaN       NaN     8.000000   NaN   \n",
       "75%      26900.000000          NaN     NaN       NaN     8.000000   NaN   \n",
       "max     155000.000000          NaN     NaN       NaN    12.000000   NaN   \n",
       "\n",
       "             mileage title_status  ... drive       size   type paint_color  \\\n",
       "count   2.028000e+03         2028  ...  2028       2028   2028        2028   \n",
       "unique           NaN            6  ...     3          4     13          12   \n",
       "top              NaN        clean  ...   rwd  full-size  coupe       white   \n",
       "freq             NaN         1871  ...  1205       1236    353         403   \n",
       "mean    1.421859e+05          NaN  ...   NaN        NaN    NaN         NaN   \n",
       "std     8.153882e+05          NaN  ...   NaN        NaN    NaN         NaN   \n",
       "min     0.000000e+00          NaN  ...   NaN        NaN    NaN         NaN   \n",
       "25%     1.000000e+04          NaN  ...   NaN        NaN    NaN         NaN   \n",
       "50%     5.080650e+04          NaN  ...   NaN        NaN    NaN         NaN   \n",
       "75%     1.000000e+05          NaN  ...   NaN        NaN    NaN         NaN   \n",
       "max     1.000000e+07          NaN  ...   NaN        NaN    NaN         NaN   \n",
       "\n",
       "       county  state              posting_date          Age      word_len  \\\n",
       "count     0.0   2028                      2028  2028.000000   2028.000000   \n",
       "unique    NaN     51                      2028          NaN           NaN   \n",
       "top       NaN     ca  2021-05-03T12:19:29-0400          NaN           NaN   \n",
       "freq      NaN    306                         1          NaN           NaN   \n",
       "mean      NaN    NaN                       NaN    38.317554   1334.669625   \n",
       "std       NaN    NaN                       NaN    24.677570   1901.088812   \n",
       "min       NaN    NaN                       NaN     1.000000     19.000000   \n",
       "25%       NaN    NaN                       NaN     3.000000    346.000000   \n",
       "50%       NaN    NaN                       NaN    40.000000    704.000000   \n",
       "75%       NaN    NaN                       NaN    54.000000   1480.500000   \n",
       "max       NaN    NaN                       NaN   123.000000  31718.000000   \n",
       "\n",
       "                age  \n",
       "count   2028.000000  \n",
       "unique          NaN  \n",
       "top             NaN  \n",
       "freq            NaN  \n",
       "mean      38.317554  \n",
       "std       24.677570  \n",
       "min        1.000000  \n",
       "25%        3.000000  \n",
       "50%       40.000000  \n",
       "75%       54.000000  \n",
       "max      123.000000  \n",
       "\n",
       "[11 rows x 21 columns]"
      ]
     },
     "execution_count": 95,
     "metadata": {},
     "output_type": "execute_result"
    }
   ],
   "source": [
    "df.describe(include= 'all')"
   ]
  },
  {
   "cell_type": "code",
   "execution_count": 96,
   "id": "97b063e6",
   "metadata": {},
   "outputs": [],
   "source": [
    "df_final=df[['price','Age','manufacturer','model','condition','cylinders','fuel','mileage','title_status','transmission','drive','size','type','paint_color','word_len']]"
   ]
  },
  {
   "cell_type": "code",
   "execution_count": 98,
   "id": "f6c3c5a6",
   "metadata": {},
   "outputs": [
    {
     "data": {
      "text/html": [
       "<div>\n",
       "<style scoped>\n",
       "    .dataframe tbody tr th:only-of-type {\n",
       "        vertical-align: middle;\n",
       "    }\n",
       "\n",
       "    .dataframe tbody tr th {\n",
       "        vertical-align: top;\n",
       "    }\n",
       "\n",
       "    .dataframe thead th {\n",
       "        text-align: right;\n",
       "    }\n",
       "</style>\n",
       "<table border=\"1\" class=\"dataframe\">\n",
       "  <thead>\n",
       "    <tr style=\"text-align: right;\">\n",
       "      <th></th>\n",
       "      <th>price</th>\n",
       "      <th>Age</th>\n",
       "      <th>manufacturer</th>\n",
       "      <th>model</th>\n",
       "      <th>condition</th>\n",
       "      <th>cylinders</th>\n",
       "      <th>fuel</th>\n",
       "      <th>mileage</th>\n",
       "      <th>title_status</th>\n",
       "      <th>transmission</th>\n",
       "      <th>drive</th>\n",
       "      <th>size</th>\n",
       "      <th>type</th>\n",
       "      <th>paint_color</th>\n",
       "      <th>word_len</th>\n",
       "    </tr>\n",
       "  </thead>\n",
       "  <tbody>\n",
       "    <tr>\n",
       "      <th>1782</th>\n",
       "      <td>11000</td>\n",
       "      <td>41.0</td>\n",
       "      <td>gmc</td>\n",
       "      <td>bus</td>\n",
       "      <td>good</td>\n",
       "      <td>8</td>\n",
       "      <td>diesel</td>\n",
       "      <td>82000</td>\n",
       "      <td>clean</td>\n",
       "      <td>automatic</td>\n",
       "      <td>rwd</td>\n",
       "      <td>mid-size</td>\n",
       "      <td>bus</td>\n",
       "      <td>yellow</td>\n",
       "      <td>210</td>\n",
       "    </tr>\n",
       "    <tr>\n",
       "      <th>484</th>\n",
       "      <td>30000</td>\n",
       "      <td>72.0</td>\n",
       "      <td>chevrolet</td>\n",
       "      <td>styleline</td>\n",
       "      <td>good</td>\n",
       "      <td>8</td>\n",
       "      <td>gas</td>\n",
       "      <td>16</td>\n",
       "      <td>clean</td>\n",
       "      <td>automatic</td>\n",
       "      <td>rwd</td>\n",
       "      <td>full-size</td>\n",
       "      <td>coupe</td>\n",
       "      <td>black</td>\n",
       "      <td>1631</td>\n",
       "    </tr>\n",
       "    <tr>\n",
       "      <th>777</th>\n",
       "      <td>9500</td>\n",
       "      <td>96.0</td>\n",
       "      <td>chrysler</td>\n",
       "      <td>60 series</td>\n",
       "      <td>excellent</td>\n",
       "      <td>6</td>\n",
       "      <td>gas</td>\n",
       "      <td>12345</td>\n",
       "      <td>clean</td>\n",
       "      <td>manual</td>\n",
       "      <td>rwd</td>\n",
       "      <td>full-size</td>\n",
       "      <td>sedan</td>\n",
       "      <td>custom</td>\n",
       "      <td>513</td>\n",
       "    </tr>\n",
       "    <tr>\n",
       "      <th>1099</th>\n",
       "      <td>10</td>\n",
       "      <td>45.0</td>\n",
       "      <td>ford</td>\n",
       "      <td>f-250 xlt lariat</td>\n",
       "      <td>good</td>\n",
       "      <td>8</td>\n",
       "      <td>gas</td>\n",
       "      <td>30749</td>\n",
       "      <td>clean</td>\n",
       "      <td>manual</td>\n",
       "      <td>4wd</td>\n",
       "      <td>full-size</td>\n",
       "      <td>truck</td>\n",
       "      <td>blue</td>\n",
       "      <td>520</td>\n",
       "    </tr>\n",
       "    <tr>\n",
       "      <th>88</th>\n",
       "      <td>7500</td>\n",
       "      <td>43.0</td>\n",
       "      <td>fiat</td>\n",
       "      <td>spider</td>\n",
       "      <td>good</td>\n",
       "      <td>4</td>\n",
       "      <td>gas</td>\n",
       "      <td>97000</td>\n",
       "      <td>clean</td>\n",
       "      <td>manual</td>\n",
       "      <td>rwd</td>\n",
       "      <td>compact</td>\n",
       "      <td>convertible</td>\n",
       "      <td>white</td>\n",
       "      <td>2064</td>\n",
       "    </tr>\n",
       "  </tbody>\n",
       "</table>\n",
       "</div>"
      ],
      "text/plain": [
       "      price   Age manufacturer             model  condition  cylinders  \\\n",
       "1782  11000  41.0          gmc               bus       good          8   \n",
       "484   30000  72.0    chevrolet         styleline       good          8   \n",
       "777    9500  96.0     chrysler         60 series  excellent          6   \n",
       "1099     10  45.0         ford  f-250 xlt lariat       good          8   \n",
       "88     7500  43.0         fiat            spider       good          4   \n",
       "\n",
       "        fuel  mileage title_status transmission drive       size         type  \\\n",
       "1782  diesel    82000        clean    automatic   rwd   mid-size          bus   \n",
       "484      gas       16        clean    automatic   rwd  full-size        coupe   \n",
       "777      gas    12345        clean       manual   rwd  full-size        sedan   \n",
       "1099     gas    30749        clean       manual   4wd  full-size        truck   \n",
       "88       gas    97000        clean       manual   rwd    compact  convertible   \n",
       "\n",
       "     paint_color  word_len  \n",
       "1782      yellow       210  \n",
       "484        black      1631  \n",
       "777       custom       513  \n",
       "1099        blue       520  \n",
       "88         white      2064  "
      ]
     },
     "execution_count": 98,
     "metadata": {},
     "output_type": "execute_result"
    }
   ],
   "source": [
    "df_final.sample(5)"
   ]
  },
  {
   "cell_type": "code",
   "execution_count": 113,
   "id": "fa70e786",
   "metadata": {},
   "outputs": [
    {
     "data": {
      "text/plain": [
       "<AxesSubplot:xlabel='type', ylabel='count'>"
      ]
     },
     "execution_count": 113,
     "metadata": {},
     "output_type": "execute_result"
    },
    {
     "data": {
      "image/png": "[encoded data removed]",
      "text/plain": [
       "<Figure size 864x360 with 1 Axes>"
      ]
     },
     "metadata": {
      "needs_background": "light"
     },
     "output_type": "display_data"
    }
   ],
   "source": [
    "plt.figure(figsize = (12,5))\n",
    "sns.countplot(x = 'type', order = df_final['type'].value_counts().index, data = df_final)"
   ]
  },
  {
   "cell_type": "code",
   "execution_count": 115,
   "id": "c8c77a79",
   "metadata": {},
   "outputs": [
    {
     "data": {
      "text/plain": [
       "<AxesSubplot:xlabel='paint_color', ylabel='count'>"
      ]
     },
     "execution_count": 115,
     "metadata": {},
     "output_type": "execute_result"
    },
    {
     "data": {
      "image/png": "[encoded data removed]",
      "text/plain": [
       "<Figure size 720x360 with 1 Axes>"
      ]
     },
     "metadata": {
      "needs_background": "light"
     },
     "output_type": "display_data"
    }
   ],
   "source": [
    "plt.figure(figsize = (10,5))\n",
    "sns.countplot(x = 'paint_color', order = df_final['paint_color'].value_counts().index,data = df_final)"
   ]
  },
  {
   "cell_type": "markdown",
   "id": "dd6a1b13",
   "metadata": {},
   "source": [
    "1.We can see that people are buying used cars with common colors(white,grey,black,silver,blue,red) than not common colors\n",
    "2.Not Common colors (purple, orange, green etc) are mostly luxury cars which are too expensive "
   ]
  },
  {
   "cell_type": "code",
   "execution_count": 117,
   "id": "5f5a30c5",
   "metadata": {},
   "outputs": [
    {
     "data": {
      "text/plain": [
       "(array([ 0,  1,  2,  3,  4,  5,  6,  7,  8,  9, 10, 11, 12, 13, 14, 15, 16,\n",
       "        17, 18, 19, 20, 21, 22, 23, 24, 25, 26, 27, 28, 29, 30, 31, 32, 33,\n",
       "        34, 35, 36, 37, 38]),\n",
       " [Text(0, 0, 'chevrolet'),\n",
       "  Text(1, 0, 'ford'),\n",
       "  Text(2, 0, 'toyota'),\n",
       "  Text(3, 0, 'dodge'),\n",
       "  Text(4, 0, 'mercedes-benz'),\n",
       "  Text(5, 0, 'jeep'),\n",
       "  Text(6, 0, 'gmc'),\n",
       "  Text(7, 0, 'volkswagen'),\n",
       "  Text(8, 0, 'pontiac'),\n",
       "  Text(9, 0, 'nissan'),\n",
       "  Text(10, 0, 'buick'),\n",
       "  Text(11, 0, 'cadillac'),\n",
       "  Text(12, 0, 'chrysler'),\n",
       "  Text(13, 0, 'ram'),\n",
       "  Text(14, 0, 'honda'),\n",
       "  Text(15, 0, 'mercury'),\n",
       "  Text(16, 0, 'lincoln'),\n",
       "  Text(17, 0, 'bmw'),\n",
       "  Text(18, 0, 'kia'),\n",
       "  Text(19, 0, 'porsche'),\n",
       "  Text(20, 0, 'mazda'),\n",
       "  Text(21, 0, 'subaru'),\n",
       "  Text(22, 0, 'volvo'),\n",
       "  Text(23, 0, 'jaguar'),\n",
       "  Text(24, 0, 'hyundai'),\n",
       "  Text(25, 0, 'mitsubishi'),\n",
       "  Text(26, 0, 'rover'),\n",
       "  Text(27, 0, 'fiat'),\n",
       "  Text(28, 0, 'mini'),\n",
       "  Text(29, 0, 'datsun'),\n",
       "  Text(30, 0, 'lexus'),\n",
       "  Text(31, 0, 'alfa-romeo'),\n",
       "  Text(32, 0, 'acura'),\n",
       "  Text(33, 0, 'infiniti'),\n",
       "  Text(34, 0, 'audi'),\n",
       "  Text(35, 0, 'tesla'),\n",
       "  Text(36, 0, 'land rover'),\n",
       "  Text(37, 0, 'harley-davidson'),\n",
       "  Text(38, 0, 'ferrari')])"
      ]
     },
     "execution_count": 117,
     "metadata": {},
     "output_type": "execute_result"
    },
    {
     "data": {
      "image/png": "[encoded data removed]",
      "text/plain": [
       "<Figure size 720x360 with 1 Axes>"
      ]
     },
     "metadata": {
      "needs_background": "light"
     },
     "output_type": "display_data"
    }
   ],
   "source": [
    "plt.figure(figsize = (10,5))\n",
    "sns.countplot(x = 'manufacturer', order = df_final['manufacturer'].value_counts().index, data = df_final)\n",
    "plt.xticks(rotation = 90)"
   ]
  },
  {
   "cell_type": "markdown",
   "id": "3f9c8262",
   "metadata": {},
   "source": [
    "### Ford, Toyota, Chevrolet and Honda manufacturer cover most of the used cars because they are cheap and good than other manufacturers like Ferrari, Rolls-Royce and Hennessey"
   ]
  },
  {
   "cell_type": "code",
   "execution_count": 121,
   "id": "95d7a466",
   "metadata": {},
   "outputs": [
    {
     "data": {
      "text/plain": [
       "<AxesSubplot:xlabel='Age', ylabel='count'>"
      ]
     },
     "execution_count": 121,
     "metadata": {},
     "output_type": "execute_result"
    },
    {
     "data": {
      "image/png": "[encoded data removed]",
      "text/plain": [
       "<Figure size 720x360 with 1 Axes>"
      ]
     },
     "metadata": {
      "needs_background": "light"
     },
     "output_type": "display_data"
    }
   ],
   "source": [
    "plt.figure(figsize = (10,5))\n",
    "sns.countplot(x = 'Age', order = df_final['Age'].value_counts().index, data = df_final)"
   ]
  },
  {
   "cell_type": "code",
   "execution_count": 127,
   "id": "e9dbdf0f",
   "metadata": {},
   "outputs": [
    {
     "data": {
      "text/plain": [
       "<AxesSubplot:xlabel='mileage', ylabel='Density'>"
      ]
     },
     "execution_count": 127,
     "metadata": {},
     "output_type": "execute_result"
    },
    {
     "data": {
      "image/png": "[encoded data removed]",
      "text/plain": [
       "<Figure size 432x288 with 1 Axes>"
      ]
     },
     "metadata": {
      "needs_background": "light"
     },
     "output_type": "display_data"
    }
   ],
   "source": [
    "sns.distplot(df_final['mileage'])"
   ]
  },
  {
   "cell_type": "code",
   "execution_count": 128,
   "id": "78eb9d68",
   "metadata": {},
   "outputs": [
    {
     "data": {
      "text/plain": [
       "<AxesSubplot:xlabel='word_len', ylabel='Density'>"
      ]
     },
     "execution_count": 128,
     "metadata": {},
     "output_type": "execute_result"
    },
    {
     "data": {
      "image/png": "[encoded data removed]",
      "text/plain": [
       "<Figure size 432x288 with 1 Axes>"
      ]
     },
     "metadata": {
      "needs_background": "light"
     },
     "output_type": "display_data"
    }
   ],
   "source": [
    "sns.distplot(df_final['word_len'])"
   ]
  },
  {
   "cell_type": "code",
   "execution_count": 130,
   "id": "fcd5e23f",
   "metadata": {},
   "outputs": [
    {
     "data": {
      "text/plain": [
       "<AxesSubplot:>"
      ]
     },
     "execution_count": 130,
     "metadata": {},
     "output_type": "execute_result"
    },
    {
     "data": {
      "image/png": "[encoded data removed]",
      "text/plain": [
       "<Figure size 432x288 with 1 Axes>"
      ]
     },
     "metadata": {
      "needs_background": "light"
     },
     "output_type": "display_data"
    }
   ],
   "source": [
    "df_final.boxplot('mileage')"
   ]
  },
  {
   "cell_type": "code",
   "execution_count": 131,
   "id": "0c6f9958",
   "metadata": {},
   "outputs": [
    {
     "data": {
      "text/plain": [
       "<AxesSubplot:>"
      ]
     },
     "execution_count": 131,
     "metadata": {},
     "output_type": "execute_result"
    },
    {
     "data": {
      "image/png": "[encoded data removed]",
      "text/plain": [
       "<Figure size 432x288 with 1 Axes>"
      ]
     },
     "metadata": {
      "needs_background": "light"
     },
     "output_type": "display_data"
    }
   ],
   "source": [
    "df_final.boxplot('price')"
   ]
  },
  {
   "cell_type": "code",
   "execution_count": 132,
   "id": "15935dd3",
   "metadata": {},
   "outputs": [
    {
     "data": {
      "text/plain": [
       "<AxesSubplot:>"
      ]
     },
     "execution_count": 132,
     "metadata": {},
     "output_type": "execute_result"
    },
    {
     "data": {
      "image/png": "[encoded data removed]",
      "text/plain": [
       "<Figure size 720x504 with 2 Axes>"
      ]
     },
     "metadata": {
      "needs_background": "light"
     },
     "output_type": "display_data"
    }
   ],
   "source": [
    "plt.figure(figsize = (10,7))\n",
    "corr = df_final.corr()\n",
    "sns.heatmap(corr, annot = True)"
   ]
  },
  {
   "cell_type": "markdown",
   "id": "df1ddd1e",
   "metadata": {},
   "source": [
    "# Model Building"
   ]
  },
  {
   "cell_type": "code",
   "execution_count": 99,
   "id": "0063ced5",
   "metadata": {},
   "outputs": [
    {
     "data": {
      "text/plain": [
       "array(['gas', 'electric', 'other', 'diesel', 'hybrid'], dtype=object)"
      ]
     },
     "execution_count": 99,
     "metadata": {},
     "output_type": "execute_result"
    }
   ],
   "source": [
    "df_final.fuel.unique()"
   ]
  },
  {
   "cell_type": "code",
   "execution_count": 100,
   "id": "c5d49e74",
   "metadata": {},
   "outputs": [
    {
     "data": {
      "text/plain": [
       "array(['clean', 'rebuilt', 'missing', 'salvage', 'lien', 'parts only'],\n",
       "      dtype=object)"
      ]
     },
     "execution_count": 100,
     "metadata": {},
     "output_type": "execute_result"
    }
   ],
   "source": [
    "df_final.title_status.unique()"
   ]
  },
  {
   "cell_type": "code",
   "execution_count": 101,
   "id": "7a732091",
   "metadata": {},
   "outputs": [
    {
     "data": {
      "text/plain": [
       "array(['other', 'manual', 'automatic'], dtype=object)"
      ]
     },
     "execution_count": 101,
     "metadata": {},
     "output_type": "execute_result"
    }
   ],
   "source": [
    "df_final.transmission.unique()"
   ]
  },
  {
   "cell_type": "code",
   "execution_count": 104,
   "id": "07960259",
   "metadata": {},
   "outputs": [
    {
     "data": {
      "text/plain": [
       "array(['4wd', 'rwd', 'fwd'], dtype=object)"
      ]
     },
     "execution_count": 104,
     "metadata": {},
     "output_type": "execute_result"
    }
   ],
   "source": [
    "df_final.drive.unique()"
   ]
  },
  {
   "cell_type": "code",
   "execution_count": 107,
   "id": "6eb50795",
   "metadata": {},
   "outputs": [
    {
     "data": {
      "text/plain": [
       "array(['sedan', 'convertible', 'coupe', 'SUV', 'hatchback', 'other',\n",
       "       'pickup', 'truck', 'wagon', 'van', 'offroad', 'mini-van', 'bus'],\n",
       "      dtype=object)"
      ]
     },
     "execution_count": 107,
     "metadata": {},
     "output_type": "execute_result"
    }
   ],
   "source": [
    "df_final.type.unique()"
   ]
  },
  {
   "cell_type": "code",
   "execution_count": 133,
   "id": "84858570",
   "metadata": {},
   "outputs": [
    {
     "data": {
      "text/html": [
       "<div>\n",
       "<style scoped>\n",
       "    .dataframe tbody tr th:only-of-type {\n",
       "        vertical-align: middle;\n",
       "    }\n",
       "\n",
       "    .dataframe tbody tr th {\n",
       "        vertical-align: top;\n",
       "    }\n",
       "\n",
       "    .dataframe thead th {\n",
       "        text-align: right;\n",
       "    }\n",
       "</style>\n",
       "<table border=\"1\" class=\"dataframe\">\n",
       "  <thead>\n",
       "    <tr style=\"text-align: right;\">\n",
       "      <th></th>\n",
       "      <th>price</th>\n",
       "      <th>Age</th>\n",
       "      <th>manufacturer</th>\n",
       "      <th>model</th>\n",
       "      <th>condition</th>\n",
       "      <th>cylinders</th>\n",
       "      <th>fuel</th>\n",
       "      <th>mileage</th>\n",
       "      <th>title_status</th>\n",
       "      <th>transmission</th>\n",
       "      <th>drive</th>\n",
       "      <th>size</th>\n",
       "      <th>type</th>\n",
       "      <th>paint_color</th>\n",
       "      <th>word_len</th>\n",
       "    </tr>\n",
       "  </thead>\n",
       "  <tbody>\n",
       "    <tr>\n",
       "      <th>0</th>\n",
       "      <td>1</td>\n",
       "      <td>3.0</td>\n",
       "      <td>acura</td>\n",
       "      <td>tlx</td>\n",
       "      <td>excellent</td>\n",
       "      <td>6</td>\n",
       "      <td>gas</td>\n",
       "      <td>21347</td>\n",
       "      <td>clean</td>\n",
       "      <td>other</td>\n",
       "      <td>4wd</td>\n",
       "      <td>compact</td>\n",
       "      <td>sedan</td>\n",
       "      <td>grey</td>\n",
       "      <td>5160</td>\n",
       "    </tr>\n",
       "    <tr>\n",
       "      <th>1</th>\n",
       "      <td>2000</td>\n",
       "      <td>37.0</td>\n",
       "      <td>alfa-romeo</td>\n",
       "      <td>remeo</td>\n",
       "      <td>fair</td>\n",
       "      <td>4</td>\n",
       "      <td>gas</td>\n",
       "      <td>104000</td>\n",
       "      <td>clean</td>\n",
       "      <td>manual</td>\n",
       "      <td>rwd</td>\n",
       "      <td>compact</td>\n",
       "      <td>convertible</td>\n",
       "      <td>red</td>\n",
       "      <td>143</td>\n",
       "    </tr>\n",
       "    <tr>\n",
       "      <th>2</th>\n",
       "      <td>4250</td>\n",
       "      <td>35.0</td>\n",
       "      <td>alfa-romeo</td>\n",
       "      <td>romeo spider graduate</td>\n",
       "      <td>fair</td>\n",
       "      <td>4</td>\n",
       "      <td>gas</td>\n",
       "      <td>80000</td>\n",
       "      <td>clean</td>\n",
       "      <td>manual</td>\n",
       "      <td>rwd</td>\n",
       "      <td>compact</td>\n",
       "      <td>convertible</td>\n",
       "      <td>red</td>\n",
       "      <td>179</td>\n",
       "    </tr>\n",
       "    <tr>\n",
       "      <th>3</th>\n",
       "      <td>3500</td>\n",
       "      <td>36.0</td>\n",
       "      <td>alfa-romeo</td>\n",
       "      <td>romeo</td>\n",
       "      <td>good</td>\n",
       "      <td>4</td>\n",
       "      <td>gas</td>\n",
       "      <td>90000</td>\n",
       "      <td>clean</td>\n",
       "      <td>manual</td>\n",
       "      <td>rwd</td>\n",
       "      <td>compact</td>\n",
       "      <td>convertible</td>\n",
       "      <td>red</td>\n",
       "      <td>180</td>\n",
       "    </tr>\n",
       "    <tr>\n",
       "      <th>4</th>\n",
       "      <td>8500</td>\n",
       "      <td>49.0</td>\n",
       "      <td>alfa-romeo</td>\n",
       "      <td>romeo spider</td>\n",
       "      <td>good</td>\n",
       "      <td>4</td>\n",
       "      <td>gas</td>\n",
       "      <td>21047</td>\n",
       "      <td>clean</td>\n",
       "      <td>manual</td>\n",
       "      <td>rwd</td>\n",
       "      <td>compact</td>\n",
       "      <td>convertible</td>\n",
       "      <td>red</td>\n",
       "      <td>307</td>\n",
       "    </tr>\n",
       "    <tr>\n",
       "      <th>...</th>\n",
       "      <td>...</td>\n",
       "      <td>...</td>\n",
       "      <td>...</td>\n",
       "      <td>...</td>\n",
       "      <td>...</td>\n",
       "      <td>...</td>\n",
       "      <td>...</td>\n",
       "      <td>...</td>\n",
       "      <td>...</td>\n",
       "      <td>...</td>\n",
       "      <td>...</td>\n",
       "      <td>...</td>\n",
       "      <td>...</td>\n",
       "      <td>...</td>\n",
       "      <td>...</td>\n",
       "    </tr>\n",
       "    <tr>\n",
       "      <th>2023</th>\n",
       "      <td>7500</td>\n",
       "      <td>45.0</td>\n",
       "      <td>volkswagen</td>\n",
       "      <td>beetle bug</td>\n",
       "      <td>good</td>\n",
       "      <td>4</td>\n",
       "      <td>gas</td>\n",
       "      <td>5502</td>\n",
       "      <td>clean</td>\n",
       "      <td>manual</td>\n",
       "      <td>rwd</td>\n",
       "      <td>sub-compact</td>\n",
       "      <td>convertible</td>\n",
       "      <td>blue</td>\n",
       "      <td>862</td>\n",
       "    </tr>\n",
       "    <tr>\n",
       "      <th>2024</th>\n",
       "      <td>8400</td>\n",
       "      <td>45.0</td>\n",
       "      <td>volkswagen</td>\n",
       "      <td>beetle bug convertible</td>\n",
       "      <td>good</td>\n",
       "      <td>6</td>\n",
       "      <td>gas</td>\n",
       "      <td>14700</td>\n",
       "      <td>clean</td>\n",
       "      <td>manual</td>\n",
       "      <td>rwd</td>\n",
       "      <td>sub-compact</td>\n",
       "      <td>convertible</td>\n",
       "      <td>red</td>\n",
       "      <td>225</td>\n",
       "    </tr>\n",
       "    <tr>\n",
       "      <th>2025</th>\n",
       "      <td>4500</td>\n",
       "      <td>50.0</td>\n",
       "      <td>volkswagen</td>\n",
       "      <td>type iii</td>\n",
       "      <td>good</td>\n",
       "      <td>4</td>\n",
       "      <td>gas</td>\n",
       "      <td>38500</td>\n",
       "      <td>clean</td>\n",
       "      <td>manual</td>\n",
       "      <td>rwd</td>\n",
       "      <td>sub-compact</td>\n",
       "      <td>coupe</td>\n",
       "      <td>yellow</td>\n",
       "      <td>595</td>\n",
       "    </tr>\n",
       "    <tr>\n",
       "      <th>2026</th>\n",
       "      <td>16000</td>\n",
       "      <td>53.0</td>\n",
       "      <td>volkswagen</td>\n",
       "      <td>ghia coupe</td>\n",
       "      <td>like new</td>\n",
       "      <td>4</td>\n",
       "      <td>gas</td>\n",
       "      <td>60000</td>\n",
       "      <td>clean</td>\n",
       "      <td>manual</td>\n",
       "      <td>rwd</td>\n",
       "      <td>sub-compact</td>\n",
       "      <td>sedan</td>\n",
       "      <td>yellow</td>\n",
       "      <td>379</td>\n",
       "    </tr>\n",
       "    <tr>\n",
       "      <th>2027</th>\n",
       "      <td>1650</td>\n",
       "      <td>34.0</td>\n",
       "      <td>volvo</td>\n",
       "      <td>740</td>\n",
       "      <td>excellent</td>\n",
       "      <td>4</td>\n",
       "      <td>gas</td>\n",
       "      <td>170000</td>\n",
       "      <td>clean</td>\n",
       "      <td>automatic</td>\n",
       "      <td>rwd</td>\n",
       "      <td>sub-compact</td>\n",
       "      <td>sedan</td>\n",
       "      <td>silver</td>\n",
       "      <td>257</td>\n",
       "    </tr>\n",
       "  </tbody>\n",
       "</table>\n",
       "<p>2028 rows × 15 columns</p>\n",
       "</div>"
      ],
      "text/plain": [
       "      price   Age manufacturer                   model  condition  cylinders  \\\n",
       "0         1   3.0        acura                     tlx  excellent          6   \n",
       "1      2000  37.0   alfa-romeo                   remeo       fair          4   \n",
       "2      4250  35.0   alfa-romeo   romeo spider graduate       fair          4   \n",
       "3      3500  36.0   alfa-romeo                   romeo       good          4   \n",
       "4      8500  49.0   alfa-romeo            romeo spider       good          4   \n",
       "...     ...   ...          ...                     ...        ...        ...   \n",
       "2023   7500  45.0   volkswagen              beetle bug       good          4   \n",
       "2024   8400  45.0   volkswagen  beetle bug convertible       good          6   \n",
       "2025   4500  50.0   volkswagen                type iii       good          4   \n",
       "2026  16000  53.0   volkswagen              ghia coupe   like new          4   \n",
       "2027   1650  34.0        volvo                     740  excellent          4   \n",
       "\n",
       "     fuel  mileage title_status transmission drive         size         type  \\\n",
       "0     gas    21347        clean        other   4wd      compact        sedan   \n",
       "1     gas   104000        clean       manual   rwd      compact  convertible   \n",
       "2     gas    80000        clean       manual   rwd      compact  convertible   \n",
       "3     gas    90000        clean       manual   rwd      compact  convertible   \n",
       "4     gas    21047        clean       manual   rwd      compact  convertible   \n",
       "...   ...      ...          ...          ...   ...          ...          ...   \n",
       "2023  gas     5502        clean       manual   rwd  sub-compact  convertible   \n",
       "2024  gas    14700        clean       manual   rwd  sub-compact  convertible   \n",
       "2025  gas    38500        clean       manual   rwd  sub-compact        coupe   \n",
       "2026  gas    60000        clean       manual   rwd  sub-compact        sedan   \n",
       "2027  gas   170000        clean    automatic   rwd  sub-compact        sedan   \n",
       "\n",
       "     paint_color  word_len  \n",
       "0           grey      5160  \n",
       "1            red       143  \n",
       "2            red       179  \n",
       "3            red       180  \n",
       "4            red       307  \n",
       "...          ...       ...  \n",
       "2023        blue       862  \n",
       "2024         red       225  \n",
       "2025      yellow       595  \n",
       "2026      yellow       379  \n",
       "2027      silver       257  \n",
       "\n",
       "[2028 rows x 15 columns]"
      ]
     },
     "execution_count": 133,
     "metadata": {},
     "output_type": "execute_result"
    }
   ],
   "source": [
    "df_final"
   ]
  },
  {
   "cell_type": "code",
   "execution_count": 134,
   "id": "ee785133",
   "metadata": {},
   "outputs": [],
   "source": [
    "from sklearn.model_selection import KFold\n",
    "from sklearn.model_selection import train_test_split\n",
    "from sklearn.metrics import r2_score\n",
    "from sklearn.model_selection import cross_val_score\n",
    "from sklearn.preprocessing import MinMaxScaler"
   ]
  },
  {
   "cell_type": "code",
   "execution_count": 136,
   "id": "700a1f05",
   "metadata": {},
   "outputs": [],
   "source": [
    "from sklearn.linear_model import LinearRegression\n",
    "from sklearn.linear_model import Lasso\n",
    "from sklearn.linear_model import Ridge\n",
    "from sklearn.ensemble import GradientBoostingRegressor\n",
    "from sklearn.ensemble import RandomForestRegressor"
   ]
  },
  {
   "cell_type": "code",
   "execution_count": 139,
   "id": "8db63088",
   "metadata": {},
   "outputs": [
    {
     "data": {
      "text/html": [
       "<div>\n",
       "<style scoped>\n",
       "    .dataframe tbody tr th:only-of-type {\n",
       "        vertical-align: middle;\n",
       "    }\n",
       "\n",
       "    .dataframe tbody tr th {\n",
       "        vertical-align: top;\n",
       "    }\n",
       "\n",
       "    .dataframe thead th {\n",
       "        text-align: right;\n",
       "    }\n",
       "</style>\n",
       "<table border=\"1\" class=\"dataframe\">\n",
       "  <thead>\n",
       "    <tr style=\"text-align: right;\">\n",
       "      <th></th>\n",
       "      <th>price</th>\n",
       "      <th>Age</th>\n",
       "      <th>cylinders</th>\n",
       "      <th>mileage</th>\n",
       "      <th>word_len</th>\n",
       "      <th>manufacturer_acura</th>\n",
       "      <th>manufacturer_alfa-romeo</th>\n",
       "      <th>manufacturer_audi</th>\n",
       "      <th>manufacturer_bmw</th>\n",
       "      <th>manufacturer_buick</th>\n",
       "      <th>...</th>\n",
       "      <th>paint_color_brown</th>\n",
       "      <th>paint_color_custom</th>\n",
       "      <th>paint_color_green</th>\n",
       "      <th>paint_color_grey</th>\n",
       "      <th>paint_color_orange</th>\n",
       "      <th>paint_color_purple</th>\n",
       "      <th>paint_color_red</th>\n",
       "      <th>paint_color_silver</th>\n",
       "      <th>paint_color_white</th>\n",
       "      <th>paint_color_yellow</th>\n",
       "    </tr>\n",
       "  </thead>\n",
       "  <tbody>\n",
       "    <tr>\n",
       "      <th>0</th>\n",
       "      <td>1</td>\n",
       "      <td>3.0</td>\n",
       "      <td>6</td>\n",
       "      <td>21347</td>\n",
       "      <td>5160</td>\n",
       "      <td>1</td>\n",
       "      <td>0</td>\n",
       "      <td>0</td>\n",
       "      <td>0</td>\n",
       "      <td>0</td>\n",
       "      <td>...</td>\n",
       "      <td>0</td>\n",
       "      <td>0</td>\n",
       "      <td>0</td>\n",
       "      <td>1</td>\n",
       "      <td>0</td>\n",
       "      <td>0</td>\n",
       "      <td>0</td>\n",
       "      <td>0</td>\n",
       "      <td>0</td>\n",
       "      <td>0</td>\n",
       "    </tr>\n",
       "    <tr>\n",
       "      <th>1</th>\n",
       "      <td>2000</td>\n",
       "      <td>37.0</td>\n",
       "      <td>4</td>\n",
       "      <td>104000</td>\n",
       "      <td>143</td>\n",
       "      <td>0</td>\n",
       "      <td>1</td>\n",
       "      <td>0</td>\n",
       "      <td>0</td>\n",
       "      <td>0</td>\n",
       "      <td>...</td>\n",
       "      <td>0</td>\n",
       "      <td>0</td>\n",
       "      <td>0</td>\n",
       "      <td>0</td>\n",
       "      <td>0</td>\n",
       "      <td>0</td>\n",
       "      <td>1</td>\n",
       "      <td>0</td>\n",
       "      <td>0</td>\n",
       "      <td>0</td>\n",
       "    </tr>\n",
       "    <tr>\n",
       "      <th>2</th>\n",
       "      <td>4250</td>\n",
       "      <td>35.0</td>\n",
       "      <td>4</td>\n",
       "      <td>80000</td>\n",
       "      <td>179</td>\n",
       "      <td>0</td>\n",
       "      <td>1</td>\n",
       "      <td>0</td>\n",
       "      <td>0</td>\n",
       "      <td>0</td>\n",
       "      <td>...</td>\n",
       "      <td>0</td>\n",
       "      <td>0</td>\n",
       "      <td>0</td>\n",
       "      <td>0</td>\n",
       "      <td>0</td>\n",
       "      <td>0</td>\n",
       "      <td>1</td>\n",
       "      <td>0</td>\n",
       "      <td>0</td>\n",
       "      <td>0</td>\n",
       "    </tr>\n",
       "    <tr>\n",
       "      <th>3</th>\n",
       "      <td>3500</td>\n",
       "      <td>36.0</td>\n",
       "      <td>4</td>\n",
       "      <td>90000</td>\n",
       "      <td>180</td>\n",
       "      <td>0</td>\n",
       "      <td>1</td>\n",
       "      <td>0</td>\n",
       "      <td>0</td>\n",
       "      <td>0</td>\n",
       "      <td>...</td>\n",
       "      <td>0</td>\n",
       "      <td>0</td>\n",
       "      <td>0</td>\n",
       "      <td>0</td>\n",
       "      <td>0</td>\n",
       "      <td>0</td>\n",
       "      <td>1</td>\n",
       "      <td>0</td>\n",
       "      <td>0</td>\n",
       "      <td>0</td>\n",
       "    </tr>\n",
       "    <tr>\n",
       "      <th>4</th>\n",
       "      <td>8500</td>\n",
       "      <td>49.0</td>\n",
       "      <td>4</td>\n",
       "      <td>21047</td>\n",
       "      <td>307</td>\n",
       "      <td>0</td>\n",
       "      <td>1</td>\n",
       "      <td>0</td>\n",
       "      <td>0</td>\n",
       "      <td>0</td>\n",
       "      <td>...</td>\n",
       "      <td>0</td>\n",
       "      <td>0</td>\n",
       "      <td>0</td>\n",
       "      <td>0</td>\n",
       "      <td>0</td>\n",
       "      <td>0</td>\n",
       "      <td>1</td>\n",
       "      <td>0</td>\n",
       "      <td>0</td>\n",
       "      <td>0</td>\n",
       "    </tr>\n",
       "  </tbody>\n",
       "</table>\n",
       "<p>5 rows × 1697 columns</p>\n",
       "</div>"
      ],
      "text/plain": [
       "   price   Age  cylinders  mileage  word_len  manufacturer_acura  \\\n",
       "0      1   3.0          6    21347      5160                   1   \n",
       "1   2000  37.0          4   104000       143                   0   \n",
       "2   4250  35.0          4    80000       179                   0   \n",
       "3   3500  36.0          4    90000       180                   0   \n",
       "4   8500  49.0          4    21047       307                   0   \n",
       "\n",
       "   manufacturer_alfa-romeo  manufacturer_audi  manufacturer_bmw  \\\n",
       "0                        0                  0                 0   \n",
       "1                        1                  0                 0   \n",
       "2                        1                  0                 0   \n",
       "3                        1                  0                 0   \n",
       "4                        1                  0                 0   \n",
       "\n",
       "   manufacturer_buick  ...  paint_color_brown  paint_color_custom  \\\n",
       "0                   0  ...                  0                   0   \n",
       "1                   0  ...                  0                   0   \n",
       "2                   0  ...                  0                   0   \n",
       "3                   0  ...                  0                   0   \n",
       "4                   0  ...                  0                   0   \n",
       "\n",
       "   paint_color_green  paint_color_grey  paint_color_orange  \\\n",
       "0                  0                 1                   0   \n",
       "1                  0                 0                   0   \n",
       "2                  0                 0                   0   \n",
       "3                  0                 0                   0   \n",
       "4                  0                 0                   0   \n",
       "\n",
       "   paint_color_purple  paint_color_red  paint_color_silver  paint_color_white  \\\n",
       "0                   0                0                   0                  0   \n",
       "1                   0                1                   0                  0   \n",
       "2                   0                1                   0                  0   \n",
       "3                   0                1                   0                  0   \n",
       "4                   0                1                   0                  0   \n",
       "\n",
       "   paint_color_yellow  \n",
       "0                   0  \n",
       "1                   0  \n",
       "2                   0  \n",
       "3                   0  \n",
       "4                   0  \n",
       "\n",
       "[5 rows x 1697 columns]"
      ]
     },
     "execution_count": 139,
     "metadata": {},
     "output_type": "execute_result"
    }
   ],
   "source": [
    "f1 = pd.get_dummies(df_final)\n",
    "f1.head()"
   ]
  },
  {
   "cell_type": "code",
   "execution_count": 140,
   "id": "b227f09e",
   "metadata": {},
   "outputs": [
    {
     "data": {
      "text/plain": [
       "Index(['price', 'Age', 'cylinders', 'mileage', 'word_len',\n",
       "       'manufacturer_acura', 'manufacturer_alfa-romeo', 'manufacturer_audi',\n",
       "       'manufacturer_bmw', 'manufacturer_buick',\n",
       "       ...\n",
       "       'paint_color_brown', 'paint_color_custom', 'paint_color_green',\n",
       "       'paint_color_grey', 'paint_color_orange', 'paint_color_purple',\n",
       "       'paint_color_red', 'paint_color_silver', 'paint_color_white',\n",
       "       'paint_color_yellow'],\n",
       "      dtype='object', length=1697)"
      ]
     },
     "execution_count": 140,
     "metadata": {},
     "output_type": "execute_result"
    }
   ],
   "source": [
    "f1.columns"
   ]
  },
  {
   "cell_type": "code",
   "execution_count": 146,
   "id": "59ef906c",
   "metadata": {},
   "outputs": [],
   "source": [
    "x = f1.drop('price',axis = 1)\n",
    "y = f1['price']"
   ]
  },
  {
   "cell_type": "code",
   "execution_count": 147,
   "id": "6a33cf28",
   "metadata": {},
   "outputs": [
    {
     "data": {
      "text/plain": [
       "(2028, 1696)"
      ]
     },
     "execution_count": 147,
     "metadata": {},
     "output_type": "execute_result"
    }
   ],
   "source": [
    "x.shape"
   ]
  },
  {
   "cell_type": "code",
   "execution_count": 148,
   "id": "c4a5f7bf",
   "metadata": {},
   "outputs": [
    {
     "data": {
      "text/plain": [
       "array([    1,  2000,  4250, ...,  4500, 16000,  1650], dtype=int64)"
      ]
     },
     "execution_count": 148,
     "metadata": {},
     "output_type": "execute_result"
    }
   ],
   "source": [
    "y = y.values.ravel()\n",
    "y"
   ]
  },
  {
   "cell_type": "code",
   "execution_count": 149,
   "id": "1f0fe018",
   "metadata": {},
   "outputs": [],
   "source": [
    "X_train,X_test,y_train,y_test = train_test_split(X,y, test_size = 0.33, random_state = 42)"
   ]
  },
  {
   "cell_type": "code",
   "execution_count": 150,
   "id": "94078207",
   "metadata": {},
   "outputs": [],
   "source": [
    "# Algorithms\n",
    "linreg = LinearRegression()\n",
    "Dtree = DecisionTreeRegressor()\n",
    "rfreg = RandomForestRegressor()"
   ]
  },
  {
   "cell_type": "code",
   "execution_count": 157,
   "id": "b93976c0",
   "metadata": {},
   "outputs": [],
   "source": [
    "kfold = KFold(n_splits = 5)\n",
    "scoring = 'r2'\n",
    "algo_list = list([linreg,Dtree,rfreg])\n",
    "algo_name = list(['Linear regression','Decision tree','Random Forest'])"
   ]
  },
  {
   "cell_type": "code",
   "execution_count": 158,
   "id": "08243e28",
   "metadata": {},
   "outputs": [],
   "source": [
    "# Buliding models on various algorithms\n",
    "def model_building(algo,X,y,fold,scoring):\n",
    "    algo_score = []\n",
    "    for i in algo:\n",
    "        score = cross_val_score(i, X, y, cv=fold, scoring=scoring).mean()\n",
    "        algo_score.append(score)\n",
    "    return algo_score"
   ]
  },
  {
   "cell_type": "code",
   "execution_count": 159,
   "id": "ad6ecaa6",
   "metadata": {},
   "outputs": [],
   "source": [
    "result = model_building(algo_list, X_train, y_train, kfold, scoring)"
   ]
  },
  {
   "cell_type": "code",
   "execution_count": 160,
   "id": "65a21f66",
   "metadata": {},
   "outputs": [],
   "source": [
    "cv_score = dict(zip(algo_name,result))"
   ]
  },
  {
   "cell_type": "code",
   "execution_count": 161,
   "id": "c4972710",
   "metadata": {},
   "outputs": [
    {
     "data": {
      "text/plain": [
       "{'Linear regression': -0.0738658103683217,\n",
       " 'Decision tree': 0.26521471633377286,\n",
       " 'Random Forest': 0.5419959082688548}"
      ]
     },
     "execution_count": 161,
     "metadata": {},
     "output_type": "execute_result"
    }
   ],
   "source": [
    "cv_score"
   ]
  },
  {
   "cell_type": "markdown",
   "id": "360903ee",
   "metadata": {},
   "source": [
    "### To improve the accuracy we can use hyperparameter tuning"
   ]
  }
 ],
 "metadata": {
  "kernelspec": {
   "display_name": "Python 3 (ipykernel)",
   "language": "python",
   "name": "python3"
  },
  "language_info": {
   "codemirror_mode": {
    "name": "ipython",
    "version": 3
   },
   "file_extension": ".py",
   "mimetype": "text/x-python",
   "name": "python",
   "nbconvert_exporter": "python",
   "pygments_lexer": "ipython3",
   "version": "3.9.7"
  }
 },
 "nbformat": 4,
 "nbformat_minor": 5
}
